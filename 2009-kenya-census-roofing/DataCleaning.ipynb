{
  "nbformat": 4,
  "nbformat_minor": 0,
  "metadata": {
    "colab": {
      "name": "DataCleaning.ipynb",
      "provenance": [],
      "include_colab_link": true
    },
    "kernelspec": {
      "name": "python3",
      "display_name": "Python 3"
    }
  },
  "cells": [
    {
      "cell_type": "markdown",
      "metadata": {
        "id": "view-in-github",
        "colab_type": "text"
      },
      "source": [
        "<a href=\"https://colab.research.google.com/github/ChrisAchinga/Introduction-to-data-science/blob/master/DataCleaning.ipynb\" target=\"_parent\"><img src=\"https://colab.research.google.com/assets/colab-badge.svg\" alt=\"Open In Colab\"/></a>"
      ]
    },
    {
      "cell_type": "code",
      "metadata": {
        "id": "bRdKs8Nxv1Kp",
        "colab_type": "code",
        "colab": {}
      },
      "source": [
        "#import panadas\n",
        "import pandas as pd\n"
      ],
      "execution_count": 0,
      "outputs": []
    },
    {
      "cell_type": "code",
      "metadata": {
        "id": "J3v85_3TykSg",
        "colab_type": "code",
        "colab": {}
      },
      "source": [
        ""
      ],
      "execution_count": 0,
      "outputs": []
    },
    {
      "cell_type": "code",
      "metadata": {
        "id": "1D_wPMilyvv_",
        "colab_type": "code",
        "colab": {}
      },
      "source": [
        "# read the data\n",
        "# give the data frame a name Mine is df\n",
        "df = pd.read_csv('/content/2009_census_data_roofing_materials.csv')"
      ],
      "execution_count": 0,
      "outputs": []
    },
    {
      "cell_type": "code",
      "metadata": {
        "id": "6M3JFkoVzbPE",
        "colab_type": "code",
        "colab": {}
      },
      "source": [
        "# view first five observations\n",
        "# by default .head() gives 5 observations\n",
        "df.head()"
      ],
      "execution_count": 0,
      "outputs": []
    },
    {
      "cell_type": "code",
      "metadata": {
        "id": "BHYccKa70IZJ",
        "colab_type": "code",
        "colab": {}
      },
      "source": [
        "# viewing last observations .tail\n",
        "df.tail()"
      ],
      "execution_count": 0,
      "outputs": []
    },
    {
      "cell_type": "code",
      "metadata": {
        "id": "Kt2pVYiU1RDM",
        "colab_type": "code",
        "colab": {
          "base_uri": "https://localhost:8080/",
          "height": 134
        },
        "outputId": "fabbc395-b912-4958-e84f-a3659651020b"
      },
      "source": [
        "# viewing row 200th with all the columns\n",
        "df.iloc[200:201, :]"
      ],
      "execution_count": 9,
      "outputs": [
        {
          "output_type": "execute_result",
          "data": {
            "text/html": [
              "<div>\n",
              "<style scoped>\n",
              "    .dataframe tbody tr th:only-of-type {\n",
              "        vertical-align: middle;\n",
              "    }\n",
              "\n",
              "    .dataframe tbody tr th {\n",
              "        vertical-align: top;\n",
              "    }\n",
              "\n",
              "    .dataframe thead th {\n",
              "        text-align: right;\n",
              "    }\n",
              "</style>\n",
              "<table border=\"1\" class=\"dataframe\">\n",
              "  <thead>\n",
              "    <tr style=\"text-align: right;\">\n",
              "      <th></th>\n",
              "      <th>District</th>\n",
              "      <th>rural/urban</th>\n",
              "      <th>%_of_Households_Corrugated_Iron_Sheets</th>\n",
              "      <th>%_of_Households_Tiles</th>\n",
              "      <th>%_of_Households_Concrete</th>\n",
              "      <th>Asbestos_%_of_Households_Sheets</th>\n",
              "      <th>%_of_Households_Grass</th>\n",
              "      <th>%_of_Households_Makuti</th>\n",
              "      <th>%_of_Households_Tin</th>\n",
              "      <th>%_of_Households_Mud/Dung</th>\n",
              "      <th>%_of_Households_Other</th>\n",
              "      <th>Households</th>\n",
              "      <th>No_Corrugated_Iron_Sheets</th>\n",
              "      <th>No_Tiles</th>\n",
              "      <th>No_Concrete</th>\n",
              "      <th>No_Asbestos_Sheets</th>\n",
              "      <th>No_Grass</th>\n",
              "      <th>No_Makuti</th>\n",
              "      <th>No_Tin</th>\n",
              "      <th>No_Mud/Dung</th>\n",
              "      <th>No_Other</th>\n",
              "      <th>County</th>\n",
              "      <th>MTEF</th>\n",
              "      <th>Location_1</th>\n",
              "      <th>Province</th>\n",
              "      <th>OBJECTID</th>\n",
              "    </tr>\n",
              "  </thead>\n",
              "  <tbody>\n",
              "    <tr>\n",
              "      <th>200</th>\n",
              "      <td>BARINGO NORTH</td>\n",
              "      <td>Urban</td>\n",
              "      <td>NaN</td>\n",
              "      <td>NaN</td>\n",
              "      <td>NaN</td>\n",
              "      <td>NaN</td>\n",
              "      <td>NaN</td>\n",
              "      <td>NaN</td>\n",
              "      <td>NaN</td>\n",
              "      <td>NaN</td>\n",
              "      <td>NaN</td>\n",
              "      <td>0</td>\n",
              "      <td>0</td>\n",
              "      <td>0</td>\n",
              "      <td>0</td>\n",
              "      <td>0</td>\n",
              "      <td>0</td>\n",
              "      <td>0</td>\n",
              "      <td>0</td>\n",
              "      <td>0</td>\n",
              "      <td>0</td>\n",
              "      <td>Baringo</td>\n",
              "      <td>Physical Infrastructure, Housing</td>\n",
              "      <td>NaN</td>\n",
              "      <td>RIFT VALLEY</td>\n",
              "      <td>200</td>\n",
              "    </tr>\n",
              "  </tbody>\n",
              "</table>\n",
              "</div>"
            ],
            "text/plain": [
              "          District rural/urban  ...     Province OBJECTID\n",
              "200  BARINGO NORTH       Urban  ...  RIFT VALLEY      200\n",
              "\n",
              "[1 rows x 26 columns]"
            ]
          },
          "metadata": {
            "tags": []
          },
          "execution_count": 9
        }
      ]
    },
    {
      "cell_type": "code",
      "metadata": {
        "id": "HeHmvWLn2Jba",
        "colab_type": "code",
        "colab": {
          "base_uri": "https://localhost:8080/",
          "height": 204
        },
        "outputId": "64c8b28d-a5ea-4580-b523-dbfad61310ca"
      },
      "source": [
        "# view column\n",
        "df.iloc[:, 5:6].head()"
      ],
      "execution_count": 12,
      "outputs": [
        {
          "output_type": "execute_result",
          "data": {
            "text/html": [
              "<div>\n",
              "<style scoped>\n",
              "    .dataframe tbody tr th:only-of-type {\n",
              "        vertical-align: middle;\n",
              "    }\n",
              "\n",
              "    .dataframe tbody tr th {\n",
              "        vertical-align: top;\n",
              "    }\n",
              "\n",
              "    .dataframe thead th {\n",
              "        text-align: right;\n",
              "    }\n",
              "</style>\n",
              "<table border=\"1\" class=\"dataframe\">\n",
              "  <thead>\n",
              "    <tr style=\"text-align: right;\">\n",
              "      <th></th>\n",
              "      <th>Asbestos_%_of_Households_Sheets</th>\n",
              "    </tr>\n",
              "  </thead>\n",
              "  <tbody>\n",
              "    <tr>\n",
              "      <th>0</th>\n",
              "      <td>1.46%</td>\n",
              "    </tr>\n",
              "    <tr>\n",
              "      <th>1</th>\n",
              "      <td>1.46%</td>\n",
              "    </tr>\n",
              "    <tr>\n",
              "      <th>2</th>\n",
              "      <td>2.58%</td>\n",
              "    </tr>\n",
              "    <tr>\n",
              "      <th>3</th>\n",
              "      <td>3.04%</td>\n",
              "    </tr>\n",
              "    <tr>\n",
              "      <th>4</th>\n",
              "      <td>3.5%</td>\n",
              "    </tr>\n",
              "  </tbody>\n",
              "</table>\n",
              "</div>"
            ],
            "text/plain": [
              "  Asbestos_%_of_Households_Sheets\n",
              "0                           1.46%\n",
              "1                           1.46%\n",
              "2                           2.58%\n",
              "3                           3.04%\n",
              "4                            3.5%"
            ]
          },
          "metadata": {
            "tags": []
          },
          "execution_count": 12
        }
      ]
    },
    {
      "cell_type": "code",
      "metadata": {
        "id": "oJ66ImJP3XW1",
        "colab_type": "code",
        "colab": {
          "base_uri": "https://localhost:8080/",
          "height": 544
        },
        "outputId": "ab4bfc07-a1f8-4efe-b453-c7cb7a2d1945"
      },
      "source": [
        "# summary of the data set\n",
        "df.info()"
      ],
      "execution_count": 13,
      "outputs": [
        {
          "output_type": "stream",
          "text": [
            "<class 'pandas.core.frame.DataFrame'>\n",
            "RangeIndex: 315 entries, 0 to 314\n",
            "Data columns (total 26 columns):\n",
            "District                                  315 non-null object\n",
            "rural/urban                               315 non-null object\n",
            "%_of_Households_Corrugated_Iron_Sheets    290 non-null object\n",
            "%_of_Households_Tiles                     290 non-null object\n",
            "%_of_Households_Concrete                  290 non-null object\n",
            "Asbestos_%_of_Households_Sheets           290 non-null object\n",
            "%_of_Households_Grass                     290 non-null object\n",
            "%_of_Households_Makuti                    290 non-null object\n",
            "%_of_Households_Tin                       290 non-null object\n",
            "%_of_Households_Mud/Dung                  290 non-null object\n",
            "%_of_Households_Other                     290 non-null object\n",
            "Households                                315 non-null int64\n",
            "No_Corrugated_Iron_Sheets                 315 non-null int64\n",
            "No_Tiles                                  315 non-null int64\n",
            "No_Concrete                               315 non-null int64\n",
            "No_Asbestos_Sheets                        315 non-null int64\n",
            "No_Grass                                  315 non-null int64\n",
            "No_Makuti                                 315 non-null int64\n",
            "No_Tin                                    315 non-null int64\n",
            "No_Mud/Dung                               315 non-null int64\n",
            "No_Other                                  315 non-null int64\n",
            "County                                    315 non-null object\n",
            "MTEF                                      315 non-null object\n",
            "Location_1                                0 non-null float64\n",
            "Province                                  315 non-null object\n",
            "OBJECTID                                  315 non-null int64\n",
            "dtypes: float64(1), int64(11), object(14)\n",
            "memory usage: 64.1+ KB\n"
          ],
          "name": "stdout"
        }
      ]
    },
    {
      "cell_type": "code",
      "metadata": {
        "id": "83Q6nHYv35bH",
        "colab_type": "code",
        "colab": {
          "base_uri": "https://localhost:8080/",
          "height": 170
        },
        "outputId": "54a48bce-55a9-41aa-90a7-01e761bd5929"
      },
      "source": [
        "df.columns\n",
        "# view columns and their names"
      ],
      "execution_count": 15,
      "outputs": [
        {
          "output_type": "execute_result",
          "data": {
            "text/plain": [
              "Index(['District', 'rural/urban', '%_of_Households_Corrugated_Iron_Sheets',\n",
              "       '%_of_Households_Tiles', '%_of_Households_Concrete',\n",
              "       'Asbestos_%_of_Households_Sheets', '%_of_Households_Grass',\n",
              "       '%_of_Households_Makuti', '%_of_Households_Tin',\n",
              "       '%_of_Households_Mud/Dung', '%_of_Households_Other', 'Households',\n",
              "       'No_Corrugated_Iron_Sheets', 'No_Tiles', 'No_Concrete',\n",
              "       'No_Asbestos_Sheets', 'No_Grass', 'No_Makuti', 'No_Tin', 'No_Mud/Dung',\n",
              "       'No_Other', 'County', 'MTEF', 'Location_1', 'Province', 'OBJECTID'],\n",
              "      dtype='object')"
            ]
          },
          "metadata": {
            "tags": []
          },
          "execution_count": 15
        }
      ]
    },
    {
      "cell_type": "code",
      "metadata": {
        "id": "78CUKzF94zMI",
        "colab_type": "code",
        "colab": {
          "base_uri": "https://localhost:8080/",
          "height": 476
        },
        "outputId": "a1ac9379-6661-4c7e-daf0-caa64bfcf29f"
      },
      "source": [
        "# check datatypes in columsn\n",
        "df.dtypes"
      ],
      "execution_count": 16,
      "outputs": [
        {
          "output_type": "execute_result",
          "data": {
            "text/plain": [
              "District                                   object\n",
              "rural/urban                                object\n",
              "%_of_Households_Corrugated_Iron_Sheets     object\n",
              "%_of_Households_Tiles                      object\n",
              "%_of_Households_Concrete                   object\n",
              "Asbestos_%_of_Households_Sheets            object\n",
              "%_of_Households_Grass                      object\n",
              "%_of_Households_Makuti                     object\n",
              "%_of_Households_Tin                        object\n",
              "%_of_Households_Mud/Dung                   object\n",
              "%_of_Households_Other                      object\n",
              "Households                                  int64\n",
              "No_Corrugated_Iron_Sheets                   int64\n",
              "No_Tiles                                    int64\n",
              "No_Concrete                                 int64\n",
              "No_Asbestos_Sheets                          int64\n",
              "No_Grass                                    int64\n",
              "No_Makuti                                   int64\n",
              "No_Tin                                      int64\n",
              "No_Mud/Dung                                 int64\n",
              "No_Other                                    int64\n",
              "County                                     object\n",
              "MTEF                                       object\n",
              "Location_1                                float64\n",
              "Province                                   object\n",
              "OBJECTID                                    int64\n",
              "dtype: object"
            ]
          },
          "metadata": {
            "tags": []
          },
          "execution_count": 16
        }
      ]
    },
    {
      "cell_type": "code",
      "metadata": {
        "id": "bnZUrhVy5J2d",
        "colab_type": "code",
        "colab": {
          "base_uri": "https://localhost:8080/",
          "height": 170
        },
        "outputId": "8da2eea4-627e-4936-ee4d-54eff20a5eec"
      },
      "source": [
        "df.County.unique()\n",
        "# contents\n"
      ],
      "execution_count": 24,
      "outputs": [
        {
          "output_type": "execute_result",
          "data": {
            "text/plain": [
              "array(['Nyandarua', 'Nyeri', 'Kirinyaga', \"Murang'a\", 'Kiambu', 'Mombasa',\n",
              "       'Kwale ', 'Kilifi', 'Tana River', 'Lamu', 'Taita Taveta',\n",
              "       'Marsabit', 'Isiolo', 'Meru', 'Tharaka Nithi', 'Embu', 'Kitui',\n",
              "       'Machakos', 'Makueni', 'Nairobi', 'Garissa', 'Wajir', 'Mandera',\n",
              "       'Siaya', 'Kisumu', 'Homa Bay', 'Migori', 'Kisii', 'Nyamira',\n",
              "       'Turkana', 'West Pokot', 'Samburu', 'Trans Nzoia', 'Baringo',\n",
              "       'Uasin Gishu', 'Elgeyo Marakwet', 'Nandi', 'Laikipia', 'Nakuru',\n",
              "       'Narok', 'Kajiado', 'Kericho', 'Bomet', 'Kakamega', 'Vihiga',\n",
              "       'Bungoma', 'Busia'], dtype=object)"
            ]
          },
          "metadata": {
            "tags": []
          },
          "execution_count": 24
        }
      ]
    },
    {
      "cell_type": "code",
      "metadata": {
        "id": "wWmJ59yT5Yhm",
        "colab_type": "code",
        "colab": {
          "base_uri": "https://localhost:8080/",
          "height": 34
        },
        "outputId": "d8c757c8-38f3-4c97-e7f5-9ca12db26476"
      },
      "source": [
        "df.County.nunique()\n",
        "# entries"
      ],
      "execution_count": 26,
      "outputs": [
        {
          "output_type": "execute_result",
          "data": {
            "text/plain": [
              "47"
            ]
          },
          "metadata": {
            "tags": []
          },
          "execution_count": 26
        }
      ]
    },
    {
      "cell_type": "code",
      "metadata": {
        "id": "drMidke25_VL",
        "colab_type": "code",
        "colab": {
          "base_uri": "https://localhost:8080/",
          "height": 51
        },
        "outputId": "db8bdae1-4327-4abc-f219-38312a984d90"
      },
      "source": [
        "df.Province.unique()"
      ],
      "execution_count": 27,
      "outputs": [
        {
          "output_type": "execute_result",
          "data": {
            "text/plain": [
              "array(['CENTRAL', 'COAST', 'EASTERN', 'NAIROBI', 'NORTH EASTERN',\n",
              "       'NYANZA', 'RIFT VALLEY', 'WESTERN'], dtype=object)"
            ]
          },
          "metadata": {
            "tags": []
          },
          "execution_count": 27
        }
      ]
    },
    {
      "cell_type": "code",
      "metadata": {
        "id": "883hMbKI7GX0",
        "colab_type": "code",
        "colab": {
          "base_uri": "https://localhost:8080/",
          "height": 34
        },
        "outputId": "f9ed60f5-6e68-4ac6-e889-348a2ea7a97e"
      },
      "source": [
        "df.Province.nunique()"
      ],
      "execution_count": 28,
      "outputs": [
        {
          "output_type": "execute_result",
          "data": {
            "text/plain": [
              "8"
            ]
          },
          "metadata": {
            "tags": []
          },
          "execution_count": 28
        }
      ]
    },
    {
      "cell_type": "code",
      "metadata": {
        "id": "x-cvua007JCn",
        "colab_type": "code",
        "colab": {
          "base_uri": "https://localhost:8080/",
          "height": 340
        },
        "outputId": "be42c81c-5486-4359-e5e2-9bdf841f63d3"
      },
      "source": [
        "# for loop - iterate over a sequence\n",
        "# easy work\n",
        "cat_cols = ['County', 'Province', 'rural/urban']\n",
        "\n",
        "for cols in cat_cols:\n",
        "  print(df[cols].unique())\n",
        "  print(df[cols].nunique())\n",
        "  print('\\n')"
      ],
      "execution_count": 30,
      "outputs": [
        {
          "output_type": "stream",
          "text": [
            "['Nyandarua' 'Nyeri' 'Kirinyaga' \"Murang'a\" 'Kiambu' 'Mombasa' 'Kwale '\n",
            " 'Kilifi' 'Tana River' 'Lamu' 'Taita Taveta' 'Marsabit' 'Isiolo' 'Meru'\n",
            " 'Tharaka Nithi' 'Embu' 'Kitui' 'Machakos' 'Makueni' 'Nairobi' 'Garissa'\n",
            " 'Wajir' 'Mandera' 'Siaya' 'Kisumu' 'Homa Bay' 'Migori' 'Kisii' 'Nyamira'\n",
            " 'Turkana' 'West Pokot' 'Samburu' 'Trans Nzoia' 'Baringo' 'Uasin Gishu'\n",
            " 'Elgeyo Marakwet' 'Nandi' 'Laikipia' 'Nakuru' 'Narok' 'Kajiado' 'Kericho'\n",
            " 'Bomet' 'Kakamega' 'Vihiga' 'Bungoma' 'Busia']\n",
            "47\n",
            "\n",
            "\n",
            "['CENTRAL' 'COAST' 'EASTERN' 'NAIROBI' 'NORTH EASTERN' 'NYANZA'\n",
            " 'RIFT VALLEY' 'WESTERN']\n",
            "8\n",
            "\n",
            "\n",
            "['Urban' 'Rural']\n",
            "2\n",
            "\n",
            "\n"
          ],
          "name": "stdout"
        }
      ]
    },
    {
      "cell_type": "code",
      "metadata": {
        "id": "7zrh6isZ7cI4",
        "colab_type": "code",
        "colab": {
          "base_uri": "https://localhost:8080/",
          "height": 1000
        },
        "outputId": "3704e7b9-164f-48d8-d7d9-e9fa7d466db3"
      },
      "source": [
        "# lsting all unique variables in colums in the data set\n",
        "for cols in df.columns:\n",
        "  print(cols)\n",
        "  print(df[cols].unique())\n",
        "  print(df[cols].nunique())\n",
        "  print('\\n')"
      ],
      "execution_count": 33,
      "outputs": [
        {
          "output_type": "stream",
          "text": [
            "District\n",
            "['NYANDARUA NORTH' 'NYANDARUA SOUTH' 'NYERI NORTH' 'NYERI SOUTH'\n",
            " 'KIRINYAGA' 'MURANGA NORTH' 'MURANGA SOUTH' 'KIAMBU EAST(KIAMBAA)'\n",
            " 'KIKUYU' 'KIAMBU WEST' 'LARI' 'GITHUNGURI' 'THIKA EAST' 'THIKA WEST'\n",
            " 'RUIRU' 'GATANGA' 'GATUNDU' 'MOMBASA' 'KILINDINI' 'KWALE' 'KINANGO'\n",
            " 'MSAMBWENI' 'KILIFI' 'KALOLENI' 'MALINDI' 'TANA RIVER' 'TANA DELTA'\n",
            " 'LAMU' 'TAITA' 'TAVETA' 'MARSABIT' 'CHALBI' 'LAISAMIS' 'MOYALE' 'ISIOLO'\n",
            " 'GARBATULLA' 'MERU CENTRAL' 'IMENTI NORTH' 'IMENTI SOUTH' 'MERU SOUTH'\n",
            " 'MAARA' 'IGEMBE' 'TIGANIA' 'THARAKA' 'EMBU' 'MBEERE' 'KITUI' 'MUTOMO'\n",
            " 'MWINGI' 'KYUSO' 'MACHAKOS' 'MWALA' 'YATTA' 'KANGUNDO' 'MAKUENI' 'MBOONI'\n",
            " 'KIBWEZI' 'NZAUI' 'NAIROBI WEST' 'NAIROBI EAST' 'NAIROBI NORTH'\n",
            " 'WESTLANDS' 'GARISSA' 'LAGDERA' 'FAFI' 'IJARA' 'WAJIR SOUTH' 'WAJIR EAST'\n",
            " 'WAJIR WEST' 'MANDERA CENTRAL' 'MANDERA EAST' 'MANDERA WEST'\n",
            " 'WAJIR NORTH' 'SIAYA' 'BONDO' 'RARIEDA' 'KISUMU EAST' 'KISUMU WEST'\n",
            " 'NYANDO' 'HOMABAY' 'SUBA' 'RACHUONYO' 'MIGORI' 'RONGO' 'KURIA WEST'\n",
            " 'KURIA EAST' 'KISII CENTRAL' 'KISII SOUTH' 'MASABA' 'GUCHA' 'GUCHA SOUTH'\n",
            " 'NYAMIRA' 'MANGA' 'BORABU' 'TURKANA CENTRAL' 'TURKANA NORTH'\n",
            " 'TURKANA SOUTH' 'WEST POKOT' 'POKOT NORTH' 'POKOT CENTRAL'\n",
            " 'SAMBURU CENTRAL' 'SAMBURU EAST' 'SAMBURU NORTH' 'TRANS NZOIA WEST'\n",
            " 'TRANS NZOIA EAST' 'KWANZA' 'BARINGO' 'BARINGO NORTH' 'EAST POKOT'\n",
            " 'KOIBATEK' 'ELDORET WEST' 'ELDORET EAST' 'WARENG' 'MARAKWET' 'KEIYO'\n",
            " 'NANDI NORTH' 'NANDI CENTRAL' 'NANDI EAST' 'NANDI SOUTH' 'TINDERET'\n",
            " 'LAIKIPIA NORTH' 'LAIKIPIA EAST' 'LAIKIPIA WEST' 'NAKURU' 'NAKURU NORTH'\n",
            " 'NAIVASHA' 'MOLO' 'NAROK NORTH' 'NAROK SOUTH' 'TRANS MARA'\n",
            " 'KAJIADO CENTRAL' 'LOITOKITOK' 'KERICHO' 'KIPKELION' 'BURET' 'SOTIK'\n",
            " 'BOMET' 'KAJIADO NORTH' 'KAKAMEGA CENTRAL' 'KAKAMEGA SOUTH'\n",
            " 'KAKAMEGA NORTH' 'KAKAMEGA EAST' 'LUGARI' 'VIHIGA' 'EMUHAYA' 'HAMISI'\n",
            " 'MUMIAS' 'BUTERE' 'BUNGOMA SOUTH' 'BUNGOMA NORTH' 'BUNGOMA EAST'\n",
            " 'BUNGOMA WEST' 'MT. ELGON' 'BUSIA' 'TESO NORTH' 'SAMIA' 'BUNYALA'\n",
            " 'TESO SOUTH']\n",
            "158\n",
            "\n",
            "\n",
            "rural/urban\n",
            "['Urban' 'Rural']\n",
            "2\n",
            "\n",
            "\n",
            "%_of_Households_Corrugated_Iron_Sheets\n",
            "['91.08%' '95.38%' '90.28%' '90.89%' '91.41%' '75.68%' '90.67%' '88%'\n",
            " '88.45%' '90.04%' nan '80.52%' '99.22%' '84.4%' '74.84%' '42.41%'\n",
            " '79.21%' '95.67%' '96.08%' '96%' '96.07%' '95.72%' '96.12%' '96.01%'\n",
            " '92.81%' '50.6%' '93.5%' '96.47%' '95.02%' '92.86%' '92.72%' '96.16%'\n",
            " '96.29%' '72.01%' '85.87%' '40.69%' '66.33%' '60.04%' '71.22%' '87.51%'\n",
            " '62.96%' '73.08%' '84.04%' '20.31%' '89.91%' '88.52%' '31.12%' '38.46%'\n",
            " '22.98%' '22.99%' '36.98%' '25.07%' '18.39%' '15.26%' '34.72%' '88.96%'\n",
            " '68.86%' '93.82%' '26.57%' '88.62%' '93.83%' '80.01%' '90.13%' '96.83%'\n",
            " '94.4%' '97.03%' '95.64%' '87.21%' '84.41%' '92.74%' '96.89%' '90.71%'\n",
            " '87.42%' '97.24%' '98%' '83.83%' '98.42%' '91.63%' '93.65%' '85.85%'\n",
            " '99.07%' '95.08%' '43.61%' '7.08%' '5.5%' '14.17%' '30.7%' '35.51%'\n",
            " '96.9%' '94.27%' '96.32%' '86.5%' '93.29%' '91.43%' '88.91%' '77.9%'\n",
            " '96.09%' '88.09%' '78.34%' '64.3%' '82.68%' '55.48%' '94.82%' '92.84%'\n",
            " '84.79%' '86.53%' '91.7%' '83.68%' '83.04%' '79.13%' '63.58%' '60.88%'\n",
            " '53.54%' '75.94%' '60.63%' '78.22%' '69.5%' '62.14%' '32.13%' '40.21%'\n",
            " '33.21%' '43.25%' '61.36%' '3.49%' '16.57%' '17.81%' '8.87%' '6.82%'\n",
            " '12.71%' '0.89%' '2.03%' '4.35%' '0.6%' '7.81%' '87.9%' '88.49%' '89.94%'\n",
            " '88.34%' '90.17%' '85.27%' '92.54%' '95.65%' '92.25%' '92.98%' '91.37%'\n",
            " '90.88%' '88.02%' '89.88%' '82.18%' '88.48%' '90.65%' '93.07%' '94.98%'\n",
            " '58.48%' '74.16%' '71.93%' '86.25%' '76.95%' '83.27%' '74.06%' '75.19%'\n",
            " '89.34%' '63.38%' '82.1%' '64.02%' '52.16%' '87.03%' '85.18%' '82.39%'\n",
            " '80.31%' '79.66%' '91.51%' '88.89%' '88.59%' '51.35%' '43.88%' '78.89%'\n",
            " '91.75%' '61.07%' '46.18%' '91.36%' '91.5%' '87.66%' '91.49%' '89.49%'\n",
            " '80.76%' '90.39%' '96.27%' '74.59%' '93.85%' '93.64%' '97.88%' '71.85%'\n",
            " '80.88%' '86.45%' '86.47%' '96.44%' '92.5%' '94.04%' '87.35%' '91.07%'\n",
            " '91.09%' '85.57%' '95.29%' '94.87%' '74.4%' '81.63%' '2.77%' '13.44%'\n",
            " '31.25%' '7.41%' '19.07%' '16.97%' '4.75%' '5.68%' '81.66%' '87.44%'\n",
            " '66.69%' '66.62%' '53.22%' '7.67%' '74.44%' '82.07%' '78.61%' '82.75%'\n",
            " '43.26%' '69.08%' '77%' '85.14%' '81.55%' '63.32%' '22.78%' '89.63%'\n",
            " '81.76%' '87.91%' '96.49%' '75.28%' '63.7%' '43.71%' '25.77%' '36.59%'\n",
            " '47.22%' '76.27%' '77.3%' '87.53%' '64.79%' '58.25%' '64.52%' '93.98%'\n",
            " '79.69%' '93.8%' '96.62%' '90.58%' '94.55%' '79.35%' '77.56%' '91.02%'\n",
            " '88.26%' '92.23%' '70.73%' '90.06%' '86.72%' '53.85%' '90.7%' '82.32%'\n",
            " '72.55%' '90.11%' '57.04%' '79.64%' '84.15%' '93.34%' '93.11%' '91.96%'\n",
            " '66.35%' '77.6%' '66.46%' '89.06%' '84.58%' '73.79%' '60.7%' '49.66%'\n",
            " '29.2%' '52.69%' '58.22%' '25.44%']\n",
            "284\n",
            "\n",
            "\n",
            "%_of_Households_Tiles\n",
            "['0.62%' '0.47%' '1.13%' '2.3%' '0.87%' '1.86%' '1.51%' '3.22%' '3.68%'\n",
            " '2.52%' nan '2.4%' '0.11%' '5.1%' '4.25%' '41.68%' '3.86%' '0.6%' '0.63%'\n",
            " '0.92%' '0.83%' '0.72%' '1.12%' '0.98%' '3.02%' '21.51%' '3.76%' '1.58%'\n",
            " '1.94%' '0.8%' '2.5%' '1.08%' '1.32%' '5.35%' '1.42%' '1.29%' '0.59%'\n",
            " '1.04%' '0.22%' '0%' '0.52%' '3.07%' '0.84%' '0.49%' '0.29%' '0.39%'\n",
            " '1.23%' '0.45%' '0.26%' '0.95%' '0.55%' '0.64%' '0.28%' '0.93%' '1.56%'\n",
            " '0.58%' '0.79%' '0.94%' '0.31%' '2.66%' '1.46%' '0.56%' '3.36%' '0.38%'\n",
            " '0.71%' '0.73%' '0.37%' '1.61%' '0.1%' '0.14%' '0.17%' '0.23%' '0.51%'\n",
            " '0.78%' '0.68%' '0.69%' '0.85%' '0.74%' '0.88%' '1.03%' '0.77%' '0.96%'\n",
            " '0.9%' '10.3%' '8.1%' '6.41%' '30.47%' '1.6%' '1.84%' '0.48%' '0.2%'\n",
            " '0.15%' '0.34%' '0.33%' '0.36%' '0.35%' '0.46%' '0.21%' '1.02%' '1.06%'\n",
            " '3.01%' '3.61%' '1.26%' '1.28%' '0.65%' '1.22%' '0.57%' '0.43%' '0.67%'\n",
            " '1.3%' '0.53%' '0.4%' '0.54%' '2.34%' '0.32%' '0.44%' '0.18%' '0.25%'\n",
            " '2.09%' '2.61%' '1.98%' '3.72%' '12.86%' '3.55%' '1.96%' '1.72%' '1.2%'\n",
            " '0.27%' '4.78%' '2.36%' '1.34%' '1.92%' '1.1%' '0.7%' '1.66%' '1.24%'\n",
            " '1.44%' '6.24%' '0.41%' '1.99%' '0.13%' '0.91%' '0.82%' '0.66%' '0.75%'\n",
            " '0.61%' '1.62%' '5.13%' '0.42%' '0.86%' '1.54%' '0.5%']\n",
            "151\n",
            "\n",
            "\n",
            "%_of_Households_Concrete\n",
            "['0.16%' '2.6%' '5.21%' '3.32%' '3.97%' '17.97%' '4.23%' '6.6%' '6.19%'\n",
            " '5.26%' nan '13.84%' '0.33%' '7.82%' '18.09%' '8.23%' '16.57%' '0.03%'\n",
            " '0.1%' '0.15%' '0.28%' '0.65%' '0.51%' '0.54%' '0%' '1.01%' '0.76%'\n",
            " '0.55%' '0.35%' '0.22%' '0.42%' '0.67%' '13.87%' '4.57%' '0.52%' '0.31%'\n",
            " '0.71%' '2.76%' '1.06%' '6.8%' '0.78%' '43.95%' '1.67%' '0.06%' '0.09%'\n",
            " '0.37%' '0.01%' '2.14%' '2.66%' '1.49%' '1.52%' '0.6%' '0.18%' '1.47%'\n",
            " '2.47%' '1.04%' '0.24%' '1.58%' '0.29%' '8.99%' '1.29%' '0.43%' '0.36%'\n",
            " '0.69%' '1.55%' '0.05%' '0.04%' '0.02%' '0.08%' '0.07%' '0.11%' '6.48%'\n",
            " '24%' '29.24%' '13.72%' '0.12%' '0.2%' '0.57%' '0.38%' '0.26%' '0.58%'\n",
            " '2.33%' '1.16%' '0.3%' '0.46%' '0.74%' '6.15%' '1.07%' '0.89%' '1.82%'\n",
            " '1.54%' '0.86%' '0.7%' '0.32%' '0.34%' '6.3%' '3.52%' '2.49%' '0.39%'\n",
            " '1.23%' '0.49%' '0.77%' '0.14%' '0.56%' '0.96%' '2.52%' '7.21%' '2.19%'\n",
            " '1.8%' '1.19%' '0.87%' '3.29%' '0.82%' '0.13%' '0.64%']\n",
            "114\n",
            "\n",
            "\n",
            "Asbestos_%_of_Households_Sheets\n",
            "['1.46%' '2.58%' '3.04%' '3.5%' '3.84%' '2.76%' '1.87%' '1.45%' '1.5%' nan\n",
            " '2.89%' '0.33%' '2.38%' '2.24%' '7.31%' '0.25%' '2.09%' '2.2%' '1.6%'\n",
            " '2.37%' '2.41%' '1.37%' '1.44%' '1.94%' '27.09%' '1.32%' '0.96%' '1.89%'\n",
            " '2.62%' '3.81%' '0.73%' '3.21%' '3.27%' '2.66%' '3.42%' '3.02%' '4.94%'\n",
            " '4.39%' '0.47%' '5.03%' '3.57%' '1.13%' '2.13%' '0.98%' '1.55%' '1.06%'\n",
            " '2.51%' '1.09%' '0.71%' '2.96%' '2.71%' '1.07%' '2.28%' '0.05%' '4.89%'\n",
            " '0.84%' '2.03%' '1.2%' '3.19%' '9.85%' '3.24%' '1.82%' '0.62%' '1.43%'\n",
            " '12.15%' '0.15%' '0%' '2.43%' '0.57%' '1.86%' '1.17%' '0.56%' '0.65%'\n",
            " '1.62%' '0.16%' '1.12%' '2.93%' '1.92%' '4.16%' '3.22%' '3.11%' '2.39%'\n",
            " '2.6%' '2.19%' '1.15%' '1.79%' '0.42%' '0.66%' '0.9%' '1.49%' '0.86%'\n",
            " '3.58%' '2.77%' '1.8%' '3.59%' '1.51%' '0.61%' '2.74%' '0.75%' '0.68%'\n",
            " '1.21%' '1.01%' '0.24%' '0.32%' '2.7%' '3.55%' '0.38%' '0.78%' '0.29%'\n",
            " '0.1%' '0.44%' '0.2%' '0.07%' '0.6%' '2.73%' '0.12%' '3.75%' '4.41%'\n",
            " '3.1%' '1.3%' '3.05%' '3.93%' '2.15%' '2.46%' '2.16%' '3.18%' '5.08%'\n",
            " '5.36%' '1.42%' '2.12%' '0.83%' '0.59%' '1.41%' '1.9%' '1.31%' '1.36%'\n",
            " '2.05%' '2.31%' '3.49%' '2.82%' '2.99%' '3.25%' '3.64%' '1.65%' '2.25%'\n",
            " '3.3%' '2.85%' '0.93%' '0.31%' '4.43%' '5.05%' '4.27%' '4.13%' '2.06%'\n",
            " '0.21%' '1.08%' '20.38%' '4.22%' '5.09%' '3.94%' '3.87%' '4.84%' '1.96%'\n",
            " '0.5%' '1.52%' '0.91%' '1.19%' '4.02%' '0.67%' '1.26%' '0.41%' '1.88%'\n",
            " '2.55%' '1.29%' '1.1%' '2.33%' '0.8%' '1.69%' '1.7%' '0.94%' '2.23%'\n",
            " '1.24%' '1.27%' '2.78%' '2.11%' '3.14%' '6.45%' '1.85%' '1.66%' '2.9%'\n",
            " '1.03%' '1.58%' '1.04%' '2.65%' '9.67%' '1.02%' '0.52%' '4.75%' '8.42%'\n",
            " '1.63%' '2.07%' '6.58%' '1.72%' '0.53%' '2.26%' '3.52%' '3.89%' '2.48%'\n",
            " '1.53%' '2.67%' '0.76%' '1.35%' '2.04%' '2.59%' '1.22%' '2.01%']\n",
            "215\n",
            "\n",
            "\n",
            "%_of_Households_Grass\n",
            "['0.64%' '0.06%' '0.49%' '0.09%' '0.04%' '0.01%' '0.27%' nan '0.03%' '0%'\n",
            " '0.13%' '1.01%' '0.75%' '0.95%' '0.07%' '0.19%' '0.5%' '0.11%' '0.02%'\n",
            " '2.84%' '0.48%' '0.1%' '4.48%' '0.79%' '0.21%' '0.38%' '18.05%' '9.23%'\n",
            " '0.67%' '3.42%' '2.92%' '22.3%' '11.35%' '11%' '4.65%' '17.1%' '68.65%'\n",
            " '59.02%' '20.75%' '5.14%' '22.04%' '0.74%' '7.71%' '1.81%' '13.76%'\n",
            " '0.12%' '0.44%' '1.05%' '10.78%' '1.04%' '5.77%' '1.43%' '0.71%' '5.38%'\n",
            " '2.95%' '11.85%' '0.52%' '0.96%' '41.24%' '11.16%' '9.51%' '77.85%'\n",
            " '26.31%' '50.97%' '1.2%' '1.19%' '0.73%' '10.4%' '5.15%' '2.78%' '5.9%'\n",
            " '17.98%' '0.39%' '8.05%' '17.43%' '31.94%' '14.38%' '41.53%' '2.07%'\n",
            " '5.59%' '13.6%' '11.53%' '5.95%' '13.07%' '15.13%' '11.66%' '30.88%'\n",
            " '20.86%' '25.62%' '34.4%' '65.15%' '58.27%' '49.42%' '31.69%' '36.82%'\n",
            " '80.28%' '72.66%' '72.13%' '89.37%' '91%' '84.36%' '98.4%' '90.5%'\n",
            " '77.66%' '28.96%' '82.33%' '6.8%' '9.72%' '9.01%' '2.2%' '0.36%' '9.7%'\n",
            " '4.57%' '0.45%' '2.75%' '3.18%' '4.2%' '1.36%' '5.18%' '11.7%' '4.7%'\n",
            " '6.25%' '3.01%' '39.88%' '23.37%' '26.21%' '11.28%' '21.21%' '13.62%'\n",
            " '23.43%' '22.36%' '8.46%' '33.65%' '14.8%' '32.68%' '43.58%' '8.92%'\n",
            " '12.22%' '13.51%' '15.63%' '6.33%' '8.22%' '6.6%' '4.07%' '21.97%'\n",
            " '17.74%' '1.66%' '1.87%' '9.67%' '1.07%' '7.8%' '4.17%' '0.62%' '0.28%'\n",
            " '0.91%' '2.1%' '21.84%' '2.26%' '2.67%' '0.18%' '6.17%' '0.47%' '3.12%'\n",
            " '0.72%' '6.15%' '0.43%' '0.99%' '3.38%' '12.63%' '1.26%' '13.56%'\n",
            " '64.96%' '30.37%' '66.15%' '70.33%' '78.79%' '11.47%' '8.72%' '19.96%'\n",
            " '13.24%' '9.49%' '29.01%' '31%' '44.18%' '90.87%' '22.58%' '15.39%'\n",
            " '16.61%' '9.82%' '53.46%' '27.97%' '20.32%' '12.73%' '10.26%' '15.24%'\n",
            " '34.24%' '45.6%' '5.92%' '11.23%' '7.29%' '0.8%' '5.54%' '19.55%'\n",
            " '13.61%' '27.46%' '71.08%' '14.75%' '39.83%' '19.68%' '20.4%' '7.32%'\n",
            " '31.26%' '39.52%' '1%' '9.34%' '2.33%' '0.69%' '2.55%' '3.84%' '14.92%'\n",
            " '13.03%' '5.39%' '8.07%' '4.15%' '21.94%' '7.02%' '10.19%' '44.3%'\n",
            " '7.31%' '13.46%' '25.22%' '6.72%' '38.73%' '15.58%' '12.38%' '4.27%'\n",
            " '4.3%' '4.1%' '20.05%' '29.55%' '8.14%' '11.19%' '22.82%' '35.01%'\n",
            " '47.44%' '69.07%' '44.16%' '38.5%' '73.39%']\n",
            "248\n",
            "\n",
            "\n",
            "%_of_Households_Makuti\n",
            "['0.03%' '0%' '0.08%' '0.05%' '0.01%' '0.06%' '0.07%' nan '0.13%' '0.11%'\n",
            " '0.17%' '0.1%' '0.14%' '0.04%' '0.2%' '0.46%' '0.18%' '0.02%' '4.65%'\n",
            " '4.19%' '53.74%' '24.14%' '34.1%' '20.68%' '7.53%' '23.51%' '3.65%'\n",
            " '4.85%' '30.77%' '2.72%' '63.66%' '36.34%' '63.72%' '62.82%' '55.68%'\n",
            " '54.21%' '10.3%' '22.6%' '35.97%' '0.91%' '4.99%' '39.16%' '0.15%'\n",
            " '0.25%' '4.45%' '0.23%' '0.41%' '1.96%' '4.59%' '38.45%' '1.32%' '9.55%'\n",
            " '11.43%' '0.59%' '0.09%' '0.26%' '0.12%' '0.32%' '0.6%' '0.24%' '0.33%'\n",
            " '1.21%' '0.21%' '0.61%' '5.5%' '3.41%' '1.33%' '0.27%' '0.54%' '14.48%'\n",
            " '21.88%' '0.55%' '14.8%' '3.87%' '1.63%' '0.22%' '1.42%' '6.31%' '16%'\n",
            " '67.67%' '8.45%' '0.43%' '0.16%' '0.19%' '0.4%' '33.48%' '20.41%' '6.96%'\n",
            " '6.22%' '0.29%' '1.07%' '0.47%' '0.34%' '60.56%' '13.42%' '46.97%'\n",
            " '0.35%' '7.31%' '18.46%' '20.84%' '0.37%' '0.82%' '0.44%' '2.9%' '0.73%'\n",
            " '0.36%' '1.19%' '0.67%' '0.56%']\n",
            "108\n",
            "\n",
            "\n",
            "%_of_Households_Tin\n",
            "['0.07%' '0%' '0.2%' '0.14%' '0.03%' '0.51%' '0.47%' '0.09%' '0.54%' nan\n",
            " '0.1%' '0.05%' '0.16%' '0.02%' '0.34%' '0.56%' '0.73%' '0.98%' '0.04%'\n",
            " '0.28%' '0.12%' '0.65%' '0.25%' '0.5%' '0.37%' '1.26%' '0.06%' '0.01%'\n",
            " '0.18%' '0.17%' '0.63%' '0.11%' '0.43%' '0.26%' '0.22%' '0.08%' '0.23%'\n",
            " '0.27%' '0.35%' '1.13%' '2.2%' '0.87%' '0.15%' '0.13%' '0.94%' '3.61%'\n",
            " '1%' '5.55%' '0.19%' '0.48%' '0.46%' '0.59%' '0.21%' '1.17%' '1.32%'\n",
            " '0.39%' '0.74%' '0.24%' '0.3%' '0.33%' '0.41%' '3.39%' '0.84%' '4.38%'\n",
            " '7.88%' '0.55%' '0.62%' '4.13%' '1.15%' '0.29%' '2.9%' '5.04%' '0.75%'\n",
            " '1.52%' '0.49%' '0.92%']\n",
            "75\n",
            "\n",
            "\n",
            "%_of_Households_Mud/Dung\n",
            "['0%' '0.02%' '0.01%' '0.05%' nan '0.08%' '0.1%' '0.03%' '0.04%' '0.06%'\n",
            " '0.17%' '0.09%' '0.07%' '0.46%' '0.9%' '0.19%' '0.13%' '1.3%' '1.11%'\n",
            " '1.43%' '10.76%' '0.12%' '0.23%' '0.86%' '1.03%' '1.9%' '0.15%' '0.38%'\n",
            " '0.44%' '0.11%' '1.42%' '0.32%' '0.36%' '0.27%' '0.29%' '2.06%' '8.97%'\n",
            " '21.74%' '0.18%' '2.18%' '0.3%' '0.31%' '0.57%' '20.77%' '0.59%' '56.62%'\n",
            " '47.62%' '21.58%' '25.02%' '0.75%' '2.01%' '0.54%' '7.39%' '24.41%'\n",
            " '0.56%' '43.77%' '5.88%' '0.14%' '0.16%' '12.75%']\n",
            "59\n",
            "\n",
            "\n",
            "%_of_Households_Other\n",
            "['5.94%' '0.02%' '0.01%' '0.17%' '0.15%' '0.13%' '0.03%' '0.11%' '0.06%'\n",
            " '0.05%' nan '0.08%' '0%' '0.37%' '0.4%' '0.14%' '0.04%' '0.8%' '0.25%'\n",
            " '0.66%' '0.12%' '0.5%' '0.38%' '0.07%' '0.33%' '0.19%' '0.23%' '1.25%'\n",
            " '1.35%' '2.77%' '0.32%' '0.2%' '31.53%' '0.09%' '0.21%' '0.36%' '0.29%'\n",
            " '7.36%' '73.08%' '44.11%' '4.27%' '15.26%' '1.21%' '0.1%' '0.22%' '0.27%'\n",
            " '0.31%' '0.18%' '0.86%' '1.02%' '2.15%' '0.64%' '0.34%' '0.59%' '2.37%'\n",
            " '7.22%' '6.35%' '15.54%' '7.7%' '2.25%' '0.74%' '0.16%' '22.1%' '13.96%'\n",
            " '7.18%' '5.85%' '12.63%' '28.07%' '1.05%' '0.48%' '0.61%' '1.76%' '3.42%'\n",
            " '1.08%' '4.14%' '1.09%' '0.98%' '0.53%' '0.3%' '5.26%' '0.51%' '4.49%'\n",
            " '1.15%' '1.87%' '1.03%' '1.79%' '0.89%']\n",
            "86\n",
            "\n",
            "\n",
            "Households\n",
            "[ 23229   5345  14208  39927  27461  10660  30455  62826  76759  23023\n",
            "      0   6048    902  64745  75089    547   1967  52181  61738  81212\n",
            "  66006 126520  86922  84095  12468    251  13455  30767  33291  19176\n",
            "   7276  29653  53744 138931 118323   4053   1607  23788  26663   9375\n",
            "  34468   7224    639   4767  12662   5375  24425  32387  35431  55561\n",
            "  33121  38663  21354  18057  17246  41265  10737   3447   1494   6690\n",
            "  12699   2181  21792   4292  12084   8640   8160    954   2162  23951\n",
            "    966  27522    469   5514    350  84271   1833  13302  50804  15462\n",
            "    537   7136   3538   6521  15585  13248   9726   9743   6682  37041\n",
            "  51383  42735  21156  19492  91122  61654  25227  55708  50573  67237\n",
            "  32405  45425  26490  33555  33709  46868  36499  36713  45794  40601\n",
            " 212165 369265 326398  75287  20635   1849    326   2479   1474  12674\n",
            "    659   8193  12579   2526  11189  35521  15570  10701  17029  17567\n",
            "  18412  20678  42010  25890  34273  10216  11169    855  96923   1384\n",
            "  25769  13796   4915  13465  18545  40964   6734  20581  12665  19665\n",
            "   6197   2814  13865   1535 120280  25967  30177  18026  31607  52428\n",
            "  65629  40390  67913  51904  26875  21496  13452  60728  11328  31116\n",
            "  75331  29029  56023  19270  15372   9808  13211   9053   4520   2787\n",
            "   1624  36906   4116   7626   8041  41548  20206  34087   1903   9688\n",
            "    975  19729   2742    373  14155  14731  96079  19273  68527  29165\n",
            "  12897   3580   9047   4129  32068  18625   5515   2299  19238  73655\n",
            "  31129  40350  28437  26187  25961  32548  18296   9955  10049  47029\n",
            "  39068  42513  27301  19730  21289  26439  47150  30858  27767  37581\n",
            "  28366  31090  28306  24916  30643  14488   6360  26493  40969  33651\n",
            "  31876  36286  94240  42946  62326  47318  26342  25478  52870  23662\n",
            "  57560  33615  56067  34412  23661   1231    516   4796  27516  11644\n",
            "  27849   2923  21982  19552  13940   7479   2293  10562   9934   1710\n",
            "   5912  41339  23142  39402  33657  54649  20644  31357  32080  50694\n",
            "  51516  61231  41908  31944  40153  30119  58208  13490  19385  13535\n",
            "  21344]\n",
            "291\n",
            "\n",
            "\n",
            "No_Corrugated_Iron_Sheets\n",
            "[ 21156   5098  12827  36290  25103   8067  27614  55285  67896  20729\n",
            "      0   4870    895  54644  56194    232   1558  49919  59316  77965\n",
            "  63412 121100  83553  80743  11572    127  12581  29680  31634  17807\n",
            "   6746  28514  51750 100038 101601   1649   1066  14282  18990   8204\n",
            "  21700   5279    537    968  11384   4758   7600  12456   8143  12771\n",
            "  12248   9691   3927   2755   5987  36711   7393   3234    397   5929\n",
            "  11916   1745  19641   4156  11407   8383   7804    832   1825  22212\n",
            "    936  24966    410   5362    343  70641   1804  12189  47577  13274\n",
            "    532   6785   3399   2844   1103    728   1378   2991   2373  35892\n",
            "  48438  41161  18300  18184  83316  54817  19652  53531  44551  52676\n",
            "  20836  37556  14696  31817  31297  39740  31583  33667  38319  33716\n",
            " 167894 234774 198719  40310  15671   1121    255   1723    916   4072\n",
            "    265   2721   5441   1550    391   5886   2773    949   1162   2232\n",
            "    164    419   1828    156   2676   8980   9884    769  85618   1248\n",
            "  21974  12767   4701  12421  17244  37430   6120  18115  11383  16161\n",
            "   5483   2551  12904   1458  70340  19256  21705  15548  24322  43656\n",
            "  48604  30371  60673  32895  22065  13762   7016  52854   9649  25635\n",
            "  60501  23124  51264  17130  13618   5036   5797   7142   4147   1702\n",
            "    750  33718   3766   6685   7357  37180  16319  30811   1832   7226\n",
            "    915  18475   2684    268  11448  12735  83080  18586  63386  27427\n",
            "  12339   3127   8239   3761  29300  15938   5255   2181  14313  60126\n",
            "    861   1408   3823   8183   1924   6207   3104    473    571  38403\n",
            "  34163  28354  18189  10500   1632  19681  38698  24258  22977  16257\n",
            "  19596  23938  24099  21948  24989   9174   1449  23747  33495  29584\n",
            "  30756  30910  70946  27355  27242  12196   9638  12030  40322  18291\n",
            "  50382  21780  32660  22202  22236    981    484   4634  24924  11009\n",
            "  22098   2267  20007  17256  12857   5290   2065   9159   5349   1551\n",
            "   4867  29990  20854  22473  26803  45988  19270  29195  29500  33636\n",
            "  39977  40692  37323  27018  29627  18282  28909   3939  10214   7880\n",
            "   5429]\n",
            "291\n",
            "\n",
            "\n",
            "No_Tiles\n",
            "[  144    25   161   917   239   198   459  2021  2826   580     0   145\n",
            "     1  3305  3191   228    76   311   386   750   548   916   974   825\n",
            "   377    54   506   487   645   153   182   321   707  7434  1677    19\n",
            "    18   306   422    55   358    16   389    45   120    95   137   681\n",
            "   289   173    47   130   391    59    22   118    34    96    81    23\n",
            "     3    17   637   402    31  2834     7   372   110     2   115    28\n",
            "    15   217   369   312   166   132   628   524   142   410   374   865\n",
            "   285   469   204   288   361   286   234   413   237 21855 29909 20910\n",
            " 22943   331    12    94    52    43    79    38    80    44   385    35\n",
            "    97   104     5  2917    50   324   177    29    69   172   266    39\n",
            "   252    78   112    93    20   680   138   179    99   307   304   181\n",
            "   384   303   154    85   339    42   197   406   150   141   359   167\n",
            "     4   770   199   159  1547  2599  1210   190    33   677   348  4903\n",
            "   258  1314   320    51   463   125     6   131  4595    61   186   109\n",
            "   102   134    13   394   214   327   247    88   439   281   356   291\n",
            "   206   211   169   143   236   544   233   371   701   300   183   140\n",
            "   284   165   667  1765   293    32    72   117    11   188    84     9\n",
            "    91   224   123   221   334   146   185   270   332   255   203   129\n",
            "   265    57   139    67    77]\n",
            "221\n",
            "\n",
            "\n",
            "No_Concrete\n",
            "[   38   139   740  1325  1090  1916  1287  4146  4750  1212     0   837\n",
            "     3  5060 13587    45   326    14    61   124   186   197   569   429\n",
            "    67   136   233   184    16   126   360 19270  5413    21     5   170\n",
            "   736    99  2344     2  2095   211    19     9    31    86   109    10\n",
            "   369    66    97   579    64    52    15   592    87     1  7574    11\n",
            "   171   219    55    49     6     8    32     7    69    18    26    82\n",
            "    58    33    36    60    44 13741 88619 95455 10333    72    47    48\n",
            "    92    37     4    12    13    59  2259    39    40    85    42    50\n",
            "  1266    94    20   123    28    83    27    23    24   221   641   173\n",
            "   237   892   519  2390    75   842   144   309   134  5310    68    29\n",
            "    76  1156  1034    25   409   206    17   141   181    22    43]\n",
            "131\n",
            "\n",
            "\n",
            "No_Asbestos_Sheets\n",
            "[  338    78   367  1213   960   409   840  1172  1112   346     0   175\n",
            "     3  1541  1680    40     5  1090  1358  1297  1564  3051  1188  1211\n",
            "   242    68   178   295   629   503   277   444   390  4464  3874   108\n",
            "    55   722   873   283  1701   317   145   637   192   275   691   348\n",
            "   861   352   969   233   128   511   978   291   102    16   147   289\n",
            "     1  1065    36   245   104   260    94    70   437     6   394    57\n",
            "     8  2046    76   943   181   107    20   197    39    63   158    11\n",
            "   414  1505   821   400   127  3787  1986   785  1334  1313  1471   373\n",
            "   654   428   600   140   309   329   524   683  6820 13229  9057  1357\n",
            "   740    28     2    86   959   553    41   133    51    19    91    83\n",
            "    17   204   279    27  3630    61   798   180   150   529   399  1008\n",
            "   220   403   998   332   294    22   999   378   177   254   994   976\n",
            "   528   926  1064   622   559   469  1715   230   930  2450  1056   814\n",
            "   318   436    99   129    26  1635   385   343  1825   834   702     4\n",
            "   105   257   455   621  4895   282  2394   731   141   350   200   628\n",
            "    93    84    21   228  2958   117   272   304   331   106   203    73\n",
            "    31  1378   735  1083   268    43   518   561   648   301   480   527\n",
            "   266   167   179    81   404  1139   358   767  2955  2769  1155   688\n",
            "   438   739   542   305   971   531   582   835   627   119    49  1345\n",
            "    60  1322   246   405   249   492    10   182    53   591   522  1388\n",
            "  1309  1355   315   450   856   383   694  1868   857  1133  1039   720\n",
            "  1253   165   221]\n",
            "255\n",
            "\n",
            "\n",
            "No_Grass\n",
            "[  148     3    69    36    11     1    81     8     9     2     0    26\n",
            "    94   526   461   768    25   945    61   157    62     6    34     7\n",
            "   544    35    32    16   135   126    72   188    55   132  1304    59\n",
            "   184   713  7221  4020  6112  1540  6611 14659 10658  3579  2121  2366\n",
            "   516   230   300    41     5    77    10   233    27  1589   602   716\n",
            "  1499  1832    37  2689  1739  1260  7572  2563  3406   444   614   313\n",
            "  2201  1004  2532  3635  4536   218  4070 11719 10351  6531 11000   694\n",
            "  1886  6372  4210  2184  5987  6141    54    58    52    21  2407   571\n",
            "    68   635   507  8257   384  4049  3986   930  8982 25810 11230  9564\n",
            " 15496 14819 18117 18713 32626  7499 28217   695  1086  2129  2500   630\n",
            "    22   370   590  2110   283   279   656  2300   291   176   417 47962\n",
            "  6069  7910  2033  6705  7143 15380  9033  5746 17465  3978  7024  5862\n",
            "  5416  1384  4205 11394  4537  3545  1584  1014   399  2902  1606    75\n",
            "   394   321   318    50   117    76   311    40  2116   527    23    66\n",
            "   460   128    17   302   210   220    39  1085  2353   116    29  4301\n",
            "    88  4221 26211  8637 17324 18258 25645  2099   868  2006  6225  3707\n",
            " 12332  8462  8716 19345  5969  7256  5126  2727 20090  7933  6317  3604\n",
            "  2556  4670  4961  2900  1569  4602  2454   256  2009 18425  5844 17112\n",
            " 33636  3885 10147 10407  4826  4216 10509 22155  4206   236   115    12\n",
            "    33   703   447  4154   381  1185  1577   578  1641   161  1076  4401\n",
            "   125   796 10427  1556 15262  5243  6763   882  1347  1315 16066 10327\n",
            " 18092  3412  3574  9164 10544 27611  9317  8561  5211 15664]\n",
            "262\n",
            "\n",
            "\n",
            "No_Makuti\n",
            "[    7     0    11    20     3     9    35    42    17     8    68   126\n",
            "    51    44   112     5    38    37    33    25    10   152    34     4\n",
            "  6458  4960  2178   388  8111  5515   706  8105   264    31  1467   146\n",
            " 15549 11768 22575 34905 18441 20961  2200  4081  6203   377   536   585\n",
            "    32    97     1     6    16    55    30   116    29   128   716  5094\n",
            "   930   764    22   302    24   296   370    60    39   114   224   392\n",
            "    41   278    59   212   233   205    61  1134    63    69  1186  2752\n",
            "    14  1656  1373   254   250  1305  6720 17519  2897    45    19     2\n",
            "    23    12   132    47   108   118    65    79   117    26   176    48\n",
            "    77    13  3284  2696   194   101    15    66 18853  5414 13358    57\n",
            "   113  1337  1838  2094   158    99    27    70    98    52    43   225\n",
            "    49    54   435  1244   453   219    94    58   103   125   229    50\n",
            "    21    40]\n",
            "146\n",
            "\n",
            "\n",
            "No_Tin\n",
            "[  17    0   29   57    9   54  142   89   70  125    6   33  120   50\n",
            "   14  227   88  489  610  122    5   10   53  192  135  689  439   51\n",
            "    1    2   38   58    4   16   23   64   55   78   46   92   49   60\n",
            "  467   18   76   13    8   15    3   11   44  165   20   61  563  133\n",
            "  541   12   42  180  153  108   26  137   48   36   31   32 1014 1758\n",
            " 1513   47  416  206    7   45   28   21   75  189  101   30  152   62\n",
            "  143  146  182  175   69  181  103  311   96  448  128   25  154  111\n",
            "   65  585  136  100   72   41   19   43  211  105 1169   52  502  341\n",
            "  116   39   35   24   37  177  322  159   67  386   22  324  156  124\n",
            "  246  106  148   81   79]\n",
            "131\n",
            "\n",
            "\n",
            "No_Mud/Dung\n",
            "[    1     2     4    15     5     0    13    63    10    20    23    45\n",
            "    30    54     3    21   240   104     6    28     7    31    17    19\n",
            "    22    49    60     8     9    11   106    85    14   147   139  1048\n",
            "    35   208    47    32    24   128    62    82   177    48    12   505\n",
            "    50    61    81   101    18    16    29    25    38    93   250   353\n",
            "    34    55   197    44   223    51    87   149  5391   192 10360  4741\n",
            "  2169    37  1591   198   824   122    56   196    43  3175 15211   264\n",
            " 11531  1498    73  4389    26    41]\n",
            "90\n",
            "\n",
            "\n",
            "No_Other\n",
            "[ 1380     1     2    67    42    14     8    69    49    11     0     5\n",
            "    55    34   210    88   122    16   140    21    33     3     7   355\n",
            "   203   129    28    36    18     4    80    61    82    78    25   267\n",
            "   243   477   132    22   471     6    10    20   248   480 11390  5844\n",
            "   415  1487    81    38   106   104    26    94    75    15    29   447\n",
            "   623   405   163    56   108    12   362   335    68    58    66    40\n",
            "   246   614    76     9    13    19   708   839   433   125    46   767\n",
            "    27   217    30    89  6880  5634  2043  1071  1257  2821   494    51\n",
            "   205   160    31   543   950    41    53   263   288   403   177    97\n",
            "  1907   482  1927   719    62   492   220   353    99    39   260   120]\n",
            "120\n",
            "\n",
            "\n",
            "County\n",
            "['Nyandarua' 'Nyeri' 'Kirinyaga' \"Murang'a\" 'Kiambu' 'Mombasa' 'Kwale '\n",
            " 'Kilifi' 'Tana River' 'Lamu' 'Taita Taveta' 'Marsabit' 'Isiolo' 'Meru'\n",
            " 'Tharaka Nithi' 'Embu' 'Kitui' 'Machakos' 'Makueni' 'Nairobi' 'Garissa'\n",
            " 'Wajir' 'Mandera' 'Siaya' 'Kisumu' 'Homa Bay' 'Migori' 'Kisii' 'Nyamira'\n",
            " 'Turkana' 'West Pokot' 'Samburu' 'Trans Nzoia' 'Baringo' 'Uasin Gishu'\n",
            " 'Elgeyo Marakwet' 'Nandi' 'Laikipia' 'Nakuru' 'Narok' 'Kajiado' 'Kericho'\n",
            " 'Bomet' 'Kakamega' 'Vihiga' 'Bungoma' 'Busia']\n",
            "47\n",
            "\n",
            "\n",
            "MTEF\n",
            "['Physical Infrastructure, Housing']\n",
            "1\n",
            "\n",
            "\n",
            "Location_1\n",
            "[nan]\n",
            "0\n",
            "\n",
            "\n",
            "Province\n",
            "['CENTRAL' 'COAST' 'EASTERN' 'NAIROBI' 'NORTH EASTERN' 'NYANZA'\n",
            " 'RIFT VALLEY' 'WESTERN']\n",
            "8\n",
            "\n",
            "\n",
            "OBJECTID\n",
            "[  0   1   2   3   4   5   6   7   8   9  10  11  12  13  14  15  16  17\n",
            "  18  19  20  21  22  23  24  25  26  27  28  29  30  31  32  33  34  35\n",
            "  36  37  38  39  40  41  42  43  44  45  46  47  48  49  50  51  52  53\n",
            "  54  55  56  57  58  59  60  61  62  63  64  65  66  67  68  69  70  71\n",
            "  72  73  74  75  76  77  78  79  80  81  82  83  84  85  86  87  88  89\n",
            "  90  91  92  93  94  95  96  97  98  99 100 101 102 103 104 105 106 107\n",
            " 108 109 110 111 112 113 114 115 116 117 118 119 120 121 122 123 124 125\n",
            " 126 127 128 129 130 131 132 133 134 135 136 137 138 139 140 141 142 143\n",
            " 144 145 146 147 148 149 150 151 152 153 154 155 156 157 158 159 160 161\n",
            " 162 163 164 165 166 167 168 169 170 171 172 173 174 175 176 177 178 179\n",
            " 180 181 182 183 184 185 186 187 188 189 190 191 192 193 194 195 196 197\n",
            " 198 199 200 201 202 203 204 205 206 207 208 209 210 211 212 213 214 215\n",
            " 216 217 218 219 220 221 222 223 224 225 226 227 228 229 230 231 232 233\n",
            " 234 235 236 237 238 239 240 241 242 243 244 245 246 247 248 249 250 251\n",
            " 252 253 254 255 256 257 258 259 260 261 262 263 264 265 266 267 268 269\n",
            " 270 271 272 273 274 275 276 277 278 279 280 281 282 283 284 285 286 287\n",
            " 288 289 290 291 292 293 294 295 296 297 298 299 300 301 302 303 304 305\n",
            " 306 307 308 309 310 311 312 313 314]\n",
            "315\n",
            "\n",
            "\n"
          ],
          "name": "stdout"
        }
      ]
    },
    {
      "cell_type": "code",
      "metadata": {
        "id": "xfLvpMZ1-Jql",
        "colab_type": "code",
        "colab": {
          "base_uri": "https://localhost:8080/",
          "height": 317
        },
        "outputId": "d61986e9-a148-44f7-fc58-220553b44ad0"
      },
      "source": [
        "# summary os data set\n",
        "df.describe()"
      ],
      "execution_count": 34,
      "outputs": [
        {
          "output_type": "execute_result",
          "data": {
            "text/html": [
              "<div>\n",
              "<style scoped>\n",
              "    .dataframe tbody tr th:only-of-type {\n",
              "        vertical-align: middle;\n",
              "    }\n",
              "\n",
              "    .dataframe tbody tr th {\n",
              "        vertical-align: top;\n",
              "    }\n",
              "\n",
              "    .dataframe thead th {\n",
              "        text-align: right;\n",
              "    }\n",
              "</style>\n",
              "<table border=\"1\" class=\"dataframe\">\n",
              "  <thead>\n",
              "    <tr style=\"text-align: right;\">\n",
              "      <th></th>\n",
              "      <th>Households</th>\n",
              "      <th>No_Corrugated_Iron_Sheets</th>\n",
              "      <th>No_Tiles</th>\n",
              "      <th>No_Concrete</th>\n",
              "      <th>No_Asbestos_Sheets</th>\n",
              "      <th>No_Grass</th>\n",
              "      <th>No_Makuti</th>\n",
              "      <th>No_Tin</th>\n",
              "      <th>No_Mud/Dung</th>\n",
              "      <th>No_Other</th>\n",
              "      <th>Location_1</th>\n",
              "      <th>OBJECTID</th>\n",
              "    </tr>\n",
              "  </thead>\n",
              "  <tbody>\n",
              "    <tr>\n",
              "      <th>count</th>\n",
              "      <td>315.000000</td>\n",
              "      <td>315.000000</td>\n",
              "      <td>315.000000</td>\n",
              "      <td>315.000000</td>\n",
              "      <td>315.000000</td>\n",
              "      <td>315.000000</td>\n",
              "      <td>315.000000</td>\n",
              "      <td>315.000000</td>\n",
              "      <td>315.000000</td>\n",
              "      <td>315.000000</td>\n",
              "      <td>0.0</td>\n",
              "      <td>315.000000</td>\n",
              "    </tr>\n",
              "    <tr>\n",
              "      <th>mean</th>\n",
              "      <td>27739.990476</td>\n",
              "      <td>20313.085714</td>\n",
              "      <td>615.212698</td>\n",
              "      <td>988.504762</td>\n",
              "      <td>626.085714</td>\n",
              "      <td>3791.142857</td>\n",
              "      <td>898.860317</td>\n",
              "      <td>79.857143</td>\n",
              "      <td>221.317460</td>\n",
              "      <td>205.923810</td>\n",
              "      <td>NaN</td>\n",
              "      <td>157.000000</td>\n",
              "    </tr>\n",
              "    <tr>\n",
              "      <th>std</th>\n",
              "      <td>36936.013962</td>\n",
              "      <td>27522.195495</td>\n",
              "      <td>2768.136884</td>\n",
              "      <td>7514.353880</td>\n",
              "      <td>1173.119447</td>\n",
              "      <td>6472.772229</td>\n",
              "      <td>3537.392935</td>\n",
              "      <td>187.095505</td>\n",
              "      <td>1322.869657</td>\n",
              "      <td>917.396302</td>\n",
              "      <td>NaN</td>\n",
              "      <td>91.076891</td>\n",
              "    </tr>\n",
              "    <tr>\n",
              "      <th>min</th>\n",
              "      <td>0.000000</td>\n",
              "      <td>0.000000</td>\n",
              "      <td>0.000000</td>\n",
              "      <td>0.000000</td>\n",
              "      <td>0.000000</td>\n",
              "      <td>0.000000</td>\n",
              "      <td>0.000000</td>\n",
              "      <td>0.000000</td>\n",
              "      <td>0.000000</td>\n",
              "      <td>0.000000</td>\n",
              "      <td>NaN</td>\n",
              "      <td>0.000000</td>\n",
              "    </tr>\n",
              "    <tr>\n",
              "      <th>25%</th>\n",
              "      <td>6122.500000</td>\n",
              "      <td>2249.500000</td>\n",
              "      <td>33.500000</td>\n",
              "      <td>6.000000</td>\n",
              "      <td>76.000000</td>\n",
              "      <td>41.000000</td>\n",
              "      <td>6.500000</td>\n",
              "      <td>5.000000</td>\n",
              "      <td>1.500000</td>\n",
              "      <td>1.000000</td>\n",
              "      <td>NaN</td>\n",
              "      <td>78.500000</td>\n",
              "    </tr>\n",
              "    <tr>\n",
              "      <th>50%</th>\n",
              "      <td>19729.000000</td>\n",
              "      <td>12196.000000</td>\n",
              "      <td>141.000000</td>\n",
              "      <td>20.000000</td>\n",
              "      <td>315.000000</td>\n",
              "      <td>713.000000</td>\n",
              "      <td>29.000000</td>\n",
              "      <td>17.000000</td>\n",
              "      <td>9.000000</td>\n",
              "      <td>10.000000</td>\n",
              "      <td>NaN</td>\n",
              "      <td>157.000000</td>\n",
              "    </tr>\n",
              "    <tr>\n",
              "      <th>75%</th>\n",
              "      <td>35903.500000</td>\n",
              "      <td>28711.500000</td>\n",
              "      <td>312.000000</td>\n",
              "      <td>68.500000</td>\n",
              "      <td>737.000000</td>\n",
              "      <td>4636.000000</td>\n",
              "      <td>105.500000</td>\n",
              "      <td>75.000000</td>\n",
              "      <td>24.500000</td>\n",
              "      <td>66.500000</td>\n",
              "      <td>NaN</td>\n",
              "      <td>235.500000</td>\n",
              "    </tr>\n",
              "    <tr>\n",
              "      <th>max</th>\n",
              "      <td>369265.000000</td>\n",
              "      <td>234774.000000</td>\n",
              "      <td>29909.000000</td>\n",
              "      <td>95455.000000</td>\n",
              "      <td>13229.000000</td>\n",
              "      <td>47962.000000</td>\n",
              "      <td>34905.000000</td>\n",
              "      <td>1758.000000</td>\n",
              "      <td>15211.000000</td>\n",
              "      <td>11390.000000</td>\n",
              "      <td>NaN</td>\n",
              "      <td>314.000000</td>\n",
              "    </tr>\n",
              "  </tbody>\n",
              "</table>\n",
              "</div>"
            ],
            "text/plain": [
              "          Households  No_Corrugated_Iron_Sheets  ...  Location_1    OBJECTID\n",
              "count     315.000000                 315.000000  ...         0.0  315.000000\n",
              "mean    27739.990476               20313.085714  ...         NaN  157.000000\n",
              "std     36936.013962               27522.195495  ...         NaN   91.076891\n",
              "min         0.000000                   0.000000  ...         NaN    0.000000\n",
              "25%      6122.500000                2249.500000  ...         NaN   78.500000\n",
              "50%     19729.000000               12196.000000  ...         NaN  157.000000\n",
              "75%     35903.500000               28711.500000  ...         NaN  235.500000\n",
              "max    369265.000000              234774.000000  ...         NaN  314.000000\n",
              "\n",
              "[8 rows x 12 columns]"
            ]
          },
          "metadata": {
            "tags": []
          },
          "execution_count": 34
        }
      ]
    },
    {
      "cell_type": "code",
      "metadata": {
        "id": "8R7YZHvO_kmC",
        "colab_type": "code",
        "colab": {
          "base_uri": "https://localhost:8080/",
          "height": 199
        },
        "outputId": "3f426a07-0771-4e18-e582-0e60cbea7d52"
      },
      "source": [
        "df.tail(2)"
      ],
      "execution_count": 35,
      "outputs": [
        {
          "output_type": "execute_result",
          "data": {
            "text/html": [
              "<div>\n",
              "<style scoped>\n",
              "    .dataframe tbody tr th:only-of-type {\n",
              "        vertical-align: middle;\n",
              "    }\n",
              "\n",
              "    .dataframe tbody tr th {\n",
              "        vertical-align: top;\n",
              "    }\n",
              "\n",
              "    .dataframe thead th {\n",
              "        text-align: right;\n",
              "    }\n",
              "</style>\n",
              "<table border=\"1\" class=\"dataframe\">\n",
              "  <thead>\n",
              "    <tr style=\"text-align: right;\">\n",
              "      <th></th>\n",
              "      <th>District</th>\n",
              "      <th>rural/urban</th>\n",
              "      <th>%_of_Households_Corrugated_Iron_Sheets</th>\n",
              "      <th>%_of_Households_Tiles</th>\n",
              "      <th>%_of_Households_Concrete</th>\n",
              "      <th>Asbestos_%_of_Households_Sheets</th>\n",
              "      <th>%_of_Households_Grass</th>\n",
              "      <th>%_of_Households_Makuti</th>\n",
              "      <th>%_of_Households_Tin</th>\n",
              "      <th>%_of_Households_Mud/Dung</th>\n",
              "      <th>%_of_Households_Other</th>\n",
              "      <th>Households</th>\n",
              "      <th>No_Corrugated_Iron_Sheets</th>\n",
              "      <th>No_Tiles</th>\n",
              "      <th>No_Concrete</th>\n",
              "      <th>No_Asbestos_Sheets</th>\n",
              "      <th>No_Grass</th>\n",
              "      <th>No_Makuti</th>\n",
              "      <th>No_Tin</th>\n",
              "      <th>No_Mud/Dung</th>\n",
              "      <th>No_Other</th>\n",
              "      <th>County</th>\n",
              "      <th>MTEF</th>\n",
              "      <th>Location_1</th>\n",
              "      <th>Province</th>\n",
              "      <th>OBJECTID</th>\n",
              "    </tr>\n",
              "  </thead>\n",
              "  <tbody>\n",
              "    <tr>\n",
              "      <th>313</th>\n",
              "      <td>BUNYALA</td>\n",
              "      <td>Rural</td>\n",
              "      <td>58.22%</td>\n",
              "      <td>0.5%</td>\n",
              "      <td>0.04%</td>\n",
              "      <td>1.63%</td>\n",
              "      <td>38.5%</td>\n",
              "      <td>0.15%</td>\n",
              "      <td>0.07%</td>\n",
              "      <td>0.01%</td>\n",
              "      <td>0.89%</td>\n",
              "      <td>13535</td>\n",
              "      <td>7880</td>\n",
              "      <td>67</td>\n",
              "      <td>5</td>\n",
              "      <td>221</td>\n",
              "      <td>5211</td>\n",
              "      <td>20</td>\n",
              "      <td>9</td>\n",
              "      <td>2</td>\n",
              "      <td>120</td>\n",
              "      <td>Busia</td>\n",
              "      <td>Physical Infrastructure, Housing</td>\n",
              "      <td>NaN</td>\n",
              "      <td>WESTERN</td>\n",
              "      <td>313</td>\n",
              "    </tr>\n",
              "    <tr>\n",
              "      <th>314</th>\n",
              "      <td>TESO SOUTH</td>\n",
              "      <td>Rural</td>\n",
              "      <td>25.44%</td>\n",
              "      <td>0.36%</td>\n",
              "      <td>0.03%</td>\n",
              "      <td>0.66%</td>\n",
              "      <td>73.39%</td>\n",
              "      <td>0.07%</td>\n",
              "      <td>0.02%</td>\n",
              "      <td>0.01%</td>\n",
              "      <td>0.02%</td>\n",
              "      <td>21344</td>\n",
              "      <td>5429</td>\n",
              "      <td>77</td>\n",
              "      <td>6</td>\n",
              "      <td>141</td>\n",
              "      <td>15664</td>\n",
              "      <td>16</td>\n",
              "      <td>4</td>\n",
              "      <td>3</td>\n",
              "      <td>4</td>\n",
              "      <td>Busia</td>\n",
              "      <td>Physical Infrastructure, Housing</td>\n",
              "      <td>NaN</td>\n",
              "      <td>WESTERN</td>\n",
              "      <td>314</td>\n",
              "    </tr>\n",
              "  </tbody>\n",
              "</table>\n",
              "</div>"
            ],
            "text/plain": [
              "       District rural/urban  ... Province OBJECTID\n",
              "313     BUNYALA       Rural  ...  WESTERN      313\n",
              "314  TESO SOUTH       Rural  ...  WESTERN      314\n",
              "\n",
              "[2 rows x 26 columns]"
            ]
          },
          "metadata": {
            "tags": []
          },
          "execution_count": 35
        }
      ]
    },
    {
      "cell_type": "code",
      "metadata": {
        "id": "kuqTiGTCAo6v",
        "colab_type": "code",
        "colab": {}
      },
      "source": [
        "# drop column\n",
        "df.drop(['Location_1'], axis = 1, inplace = True)"
      ],
      "execution_count": 0,
      "outputs": []
    },
    {
      "cell_type": "code",
      "metadata": {
        "id": "RtpdAU_aBAJQ",
        "colab_type": "code",
        "colab": {
          "base_uri": "https://localhost:8080/",
          "height": 34
        },
        "outputId": "14b18e0f-e402-4d19-a6e7-15e9c8da3d74"
      },
      "source": [
        "df.shape\n",
        "# checking ig the "
      ],
      "execution_count": 38,
      "outputs": [
        {
          "output_type": "execute_result",
          "data": {
            "text/plain": [
              "(315, 25)"
            ]
          },
          "metadata": {
            "tags": []
          },
          "execution_count": 38
        }
      ]
    },
    {
      "cell_type": "code",
      "metadata": {
        "id": "kVGQU8mNBcAa",
        "colab_type": "code",
        "colab": {
          "base_uri": "https://localhost:8080/",
          "height": 170
        },
        "outputId": "432af007-c2ee-48d3-9ed8-518226f8afd6"
      },
      "source": [
        "df.columns"
      ],
      "execution_count": 39,
      "outputs": [
        {
          "output_type": "execute_result",
          "data": {
            "text/plain": [
              "Index(['District', 'rural/urban', '%_of_Households_Corrugated_Iron_Sheets',\n",
              "       '%_of_Households_Tiles', '%_of_Households_Concrete',\n",
              "       'Asbestos_%_of_Households_Sheets', '%_of_Households_Grass',\n",
              "       '%_of_Households_Makuti', '%_of_Households_Tin',\n",
              "       '%_of_Households_Mud/Dung', '%_of_Households_Other', 'Households',\n",
              "       'No_Corrugated_Iron_Sheets', 'No_Tiles', 'No_Concrete',\n",
              "       'No_Asbestos_Sheets', 'No_Grass', 'No_Makuti', 'No_Tin', 'No_Mud/Dung',\n",
              "       'No_Other', 'County', 'MTEF', 'Province', 'OBJECTID'],\n",
              "      dtype='object')"
            ]
          },
          "metadata": {
            "tags": []
          },
          "execution_count": 39
        }
      ]
    },
    {
      "cell_type": "code",
      "metadata": {
        "id": "LEFb1KZsBinW",
        "colab_type": "code",
        "colab": {}
      },
      "source": [
        "df.drop(['OBJECTID'], axis = 1, inplace=True)"
      ],
      "execution_count": 0,
      "outputs": []
    },
    {
      "cell_type": "code",
      "metadata": {
        "id": "SkHVdBTsCTvl",
        "colab_type": "code",
        "colab": {
          "base_uri": "https://localhost:8080/",
          "height": 34
        },
        "outputId": "6b06f285-2c90-4b14-9a8d-bdda1ec2379a"
      },
      "source": [
        "df.shape"
      ],
      "execution_count": 41,
      "outputs": [
        {
          "output_type": "execute_result",
          "data": {
            "text/plain": [
              "(315, 24)"
            ]
          },
          "metadata": {
            "tags": []
          },
          "execution_count": 41
        }
      ]
    },
    {
      "cell_type": "code",
      "metadata": {
        "id": "xLzUxxPuCVZA",
        "colab_type": "code",
        "colab": {
          "base_uri": "https://localhost:8080/",
          "height": 170
        },
        "outputId": "81a2b34a-1167-4460-9387-821960e6232b"
      },
      "source": [
        "df.columns"
      ],
      "execution_count": 42,
      "outputs": [
        {
          "output_type": "execute_result",
          "data": {
            "text/plain": [
              "Index(['District', 'rural/urban', '%_of_Households_Corrugated_Iron_Sheets',\n",
              "       '%_of_Households_Tiles', '%_of_Households_Concrete',\n",
              "       'Asbestos_%_of_Households_Sheets', '%_of_Households_Grass',\n",
              "       '%_of_Households_Makuti', '%_of_Households_Tin',\n",
              "       '%_of_Households_Mud/Dung', '%_of_Households_Other', 'Households',\n",
              "       'No_Corrugated_Iron_Sheets', 'No_Tiles', 'No_Concrete',\n",
              "       'No_Asbestos_Sheets', 'No_Grass', 'No_Makuti', 'No_Tin', 'No_Mud/Dung',\n",
              "       'No_Other', 'County', 'MTEF', 'Province'],\n",
              "      dtype='object')"
            ]
          },
          "metadata": {
            "tags": []
          },
          "execution_count": 42
        }
      ]
    },
    {
      "cell_type": "code",
      "metadata": {
        "id": "xckD4211CXla",
        "colab_type": "code",
        "colab": {
          "base_uri": "https://localhost:8080/",
          "height": 170
        },
        "outputId": "c33b41b3-d0e3-4c81-a5cd-db4f58a0636e"
      },
      "source": [
        "\n",
        "df.columns"
      ],
      "execution_count": 43,
      "outputs": [
        {
          "output_type": "execute_result",
          "data": {
            "text/plain": [
              "Index(['District', 'rural/urban', '%_of_Households_Corrugated_Iron_Sheets',\n",
              "       '%_of_Households_Tiles', '%_of_Households_Concrete',\n",
              "       'Asbestos_%_of_Households_Sheets', '%_of_Households_Grass',\n",
              "       '%_of_Households_Makuti', '%_of_Households_Tin',\n",
              "       '%_of_Households_Mud/Dung', '%_of_Households_Other', 'Households',\n",
              "       'No_Corrugated_Iron_Sheets', 'No_Tiles', 'No_Concrete',\n",
              "       'No_Asbestos_Sheets', 'No_Grass', 'No_Makuti', 'No_Tin', 'No_Mud/Dung',\n",
              "       'No_Other', 'County', 'MTEF', 'Province'],\n",
              "      dtype='object')"
            ]
          },
          "metadata": {
            "tags": []
          },
          "execution_count": 43
        }
      ]
    },
    {
      "cell_type": "code",
      "metadata": {
        "id": "dEqZi7ocDDRF",
        "colab_type": "code",
        "colab": {
          "base_uri": "https://localhost:8080/",
          "height": 394
        },
        "outputId": "acc5cefd-6643-45cf-c6e4-227904fbc89e"
      },
      "source": [
        "# removing special characters\n",
        "# create a list of all values with specail char\n",
        "specialChar = ['%_of_Households_Corrugated_Iron_Sheets',\n",
        "       '%_of_Households_Tiles', '%_of_Households_Concrete',\n",
        "       'Asbestos_%_of_Households_Sheets', '%_of_Households_Grass',\n",
        "       '%_of_Households_Makuti', '%_of_Households_Tin',\n",
        "       '%_of_Households_Mud/Dung', '%_of_Households_Other']\n",
        "df[specialChar] = df[specialChar].replace({'%': ''}, regex = True)\n",
        "df.head()"
      ],
      "execution_count": 49,
      "outputs": [
        {
          "output_type": "execute_result",
          "data": {
            "text/html": [
              "<div>\n",
              "<style scoped>\n",
              "    .dataframe tbody tr th:only-of-type {\n",
              "        vertical-align: middle;\n",
              "    }\n",
              "\n",
              "    .dataframe tbody tr th {\n",
              "        vertical-align: top;\n",
              "    }\n",
              "\n",
              "    .dataframe thead th {\n",
              "        text-align: right;\n",
              "    }\n",
              "</style>\n",
              "<table border=\"1\" class=\"dataframe\">\n",
              "  <thead>\n",
              "    <tr style=\"text-align: right;\">\n",
              "      <th></th>\n",
              "      <th>District</th>\n",
              "      <th>rural/urban</th>\n",
              "      <th>%_of_Households_Corrugated_Iron_Sheets</th>\n",
              "      <th>%_of_Households_Tiles</th>\n",
              "      <th>%_of_Households_Concrete</th>\n",
              "      <th>Asbestos_%_of_Households_Sheets</th>\n",
              "      <th>%_of_Households_Grass</th>\n",
              "      <th>%_of_Households_Makuti</th>\n",
              "      <th>%_of_Households_Tin</th>\n",
              "      <th>%_of_Households_Mud/Dung</th>\n",
              "      <th>%_of_Households_Other</th>\n",
              "      <th>Households</th>\n",
              "      <th>No_Corrugated_Iron_Sheets</th>\n",
              "      <th>No_Tiles</th>\n",
              "      <th>No_Concrete</th>\n",
              "      <th>No_Asbestos_Sheets</th>\n",
              "      <th>No_Grass</th>\n",
              "      <th>No_Makuti</th>\n",
              "      <th>No_Tin</th>\n",
              "      <th>No_Mud/Dung</th>\n",
              "      <th>No_Other</th>\n",
              "      <th>County</th>\n",
              "      <th>MTEF</th>\n",
              "      <th>Province</th>\n",
              "    </tr>\n",
              "  </thead>\n",
              "  <tbody>\n",
              "    <tr>\n",
              "      <th>0</th>\n",
              "      <td>NYANDARUA NORTH</td>\n",
              "      <td>Urban</td>\n",
              "      <td>91.08</td>\n",
              "      <td>0.62</td>\n",
              "      <td>0.16</td>\n",
              "      <td>1.46</td>\n",
              "      <td>0.64</td>\n",
              "      <td>0.03</td>\n",
              "      <td>0.07</td>\n",
              "      <td>0</td>\n",
              "      <td>5.94</td>\n",
              "      <td>23229</td>\n",
              "      <td>21156</td>\n",
              "      <td>144</td>\n",
              "      <td>38</td>\n",
              "      <td>338</td>\n",
              "      <td>148</td>\n",
              "      <td>7</td>\n",
              "      <td>17</td>\n",
              "      <td>1</td>\n",
              "      <td>1380</td>\n",
              "      <td>Nyandarua</td>\n",
              "      <td>Physical Infrastructure, Housing</td>\n",
              "      <td>CENTRAL</td>\n",
              "    </tr>\n",
              "    <tr>\n",
              "      <th>1</th>\n",
              "      <td>NYANDARUA SOUTH</td>\n",
              "      <td>Urban</td>\n",
              "      <td>95.38</td>\n",
              "      <td>0.47</td>\n",
              "      <td>2.6</td>\n",
              "      <td>1.46</td>\n",
              "      <td>0.06</td>\n",
              "      <td>0</td>\n",
              "      <td>0</td>\n",
              "      <td>0.02</td>\n",
              "      <td>0.02</td>\n",
              "      <td>5345</td>\n",
              "      <td>5098</td>\n",
              "      <td>25</td>\n",
              "      <td>139</td>\n",
              "      <td>78</td>\n",
              "      <td>3</td>\n",
              "      <td>0</td>\n",
              "      <td>0</td>\n",
              "      <td>1</td>\n",
              "      <td>1</td>\n",
              "      <td>Nyandarua</td>\n",
              "      <td>Physical Infrastructure, Housing</td>\n",
              "      <td>CENTRAL</td>\n",
              "    </tr>\n",
              "    <tr>\n",
              "      <th>2</th>\n",
              "      <td>NYERI NORTH</td>\n",
              "      <td>Urban</td>\n",
              "      <td>90.28</td>\n",
              "      <td>1.13</td>\n",
              "      <td>5.21</td>\n",
              "      <td>2.58</td>\n",
              "      <td>0.49</td>\n",
              "      <td>0.08</td>\n",
              "      <td>0.2</td>\n",
              "      <td>0.01</td>\n",
              "      <td>0.01</td>\n",
              "      <td>14208</td>\n",
              "      <td>12827</td>\n",
              "      <td>161</td>\n",
              "      <td>740</td>\n",
              "      <td>367</td>\n",
              "      <td>69</td>\n",
              "      <td>11</td>\n",
              "      <td>29</td>\n",
              "      <td>2</td>\n",
              "      <td>2</td>\n",
              "      <td>Nyeri</td>\n",
              "      <td>Physical Infrastructure, Housing</td>\n",
              "      <td>CENTRAL</td>\n",
              "    </tr>\n",
              "    <tr>\n",
              "      <th>3</th>\n",
              "      <td>NYERI SOUTH</td>\n",
              "      <td>Urban</td>\n",
              "      <td>90.89</td>\n",
              "      <td>2.3</td>\n",
              "      <td>3.32</td>\n",
              "      <td>3.04</td>\n",
              "      <td>0.09</td>\n",
              "      <td>0.05</td>\n",
              "      <td>0.14</td>\n",
              "      <td>0.01</td>\n",
              "      <td>0.17</td>\n",
              "      <td>39927</td>\n",
              "      <td>36290</td>\n",
              "      <td>917</td>\n",
              "      <td>1325</td>\n",
              "      <td>1213</td>\n",
              "      <td>36</td>\n",
              "      <td>20</td>\n",
              "      <td>57</td>\n",
              "      <td>2</td>\n",
              "      <td>67</td>\n",
              "      <td>Nyeri</td>\n",
              "      <td>Physical Infrastructure, Housing</td>\n",
              "      <td>CENTRAL</td>\n",
              "    </tr>\n",
              "    <tr>\n",
              "      <th>4</th>\n",
              "      <td>KIRINYAGA</td>\n",
              "      <td>Urban</td>\n",
              "      <td>91.41</td>\n",
              "      <td>0.87</td>\n",
              "      <td>3.97</td>\n",
              "      <td>3.5</td>\n",
              "      <td>0.04</td>\n",
              "      <td>0.01</td>\n",
              "      <td>0.03</td>\n",
              "      <td>0.01</td>\n",
              "      <td>0.15</td>\n",
              "      <td>27461</td>\n",
              "      <td>25103</td>\n",
              "      <td>239</td>\n",
              "      <td>1090</td>\n",
              "      <td>960</td>\n",
              "      <td>11</td>\n",
              "      <td>3</td>\n",
              "      <td>9</td>\n",
              "      <td>4</td>\n",
              "      <td>42</td>\n",
              "      <td>Kirinyaga</td>\n",
              "      <td>Physical Infrastructure, Housing</td>\n",
              "      <td>CENTRAL</td>\n",
              "    </tr>\n",
              "  </tbody>\n",
              "</table>\n",
              "</div>"
            ],
            "text/plain": [
              "          District rural/urban  ...                              MTEF Province\n",
              "0  NYANDARUA NORTH       Urban  ...  Physical Infrastructure, Housing  CENTRAL\n",
              "1  NYANDARUA SOUTH       Urban  ...  Physical Infrastructure, Housing  CENTRAL\n",
              "2      NYERI NORTH       Urban  ...  Physical Infrastructure, Housing  CENTRAL\n",
              "3      NYERI SOUTH       Urban  ...  Physical Infrastructure, Housing  CENTRAL\n",
              "4        KIRINYAGA       Urban  ...  Physical Infrastructure, Housing  CENTRAL\n",
              "\n",
              "[5 rows x 24 columns]"
            ]
          },
          "metadata": {
            "tags": []
          },
          "execution_count": 49
        }
      ]
    },
    {
      "cell_type": "code",
      "metadata": {
        "id": "9uL9r-SNEvXK",
        "colab_type": "code",
        "colab": {
          "base_uri": "https://localhost:8080/",
          "height": 34
        },
        "outputId": "b64a5200-2541-4b25-8286-55af4a1d80b3"
      },
      "source": [
        "# counting missing values\n",
        "\n",
        "df.isnull().sum().any()"
      ],
      "execution_count": 50,
      "outputs": [
        {
          "output_type": "execute_result",
          "data": {
            "text/plain": [
              "True"
            ]
          },
          "metadata": {
            "tags": []
          },
          "execution_count": 50
        }
      ]
    },
    {
      "cell_type": "code",
      "metadata": {
        "id": "OmbaGpKfI_qG",
        "colab_type": "code",
        "colab": {
          "base_uri": "https://localhost:8080/",
          "height": 442
        },
        "outputId": "dea2c7c6-b5b8-44ba-95a0-d409a70d737e"
      },
      "source": [
        "# count null values per col\n",
        "df.isnull().sum()"
      ],
      "execution_count": 51,
      "outputs": [
        {
          "output_type": "execute_result",
          "data": {
            "text/plain": [
              "District                                   0\n",
              "rural/urban                                0\n",
              "%_of_Households_Corrugated_Iron_Sheets    25\n",
              "%_of_Households_Tiles                     25\n",
              "%_of_Households_Concrete                  25\n",
              "Asbestos_%_of_Households_Sheets           25\n",
              "%_of_Households_Grass                     25\n",
              "%_of_Households_Makuti                    25\n",
              "%_of_Households_Tin                       25\n",
              "%_of_Households_Mud/Dung                  25\n",
              "%_of_Households_Other                     25\n",
              "Households                                 0\n",
              "No_Corrugated_Iron_Sheets                  0\n",
              "No_Tiles                                   0\n",
              "No_Concrete                                0\n",
              "No_Asbestos_Sheets                         0\n",
              "No_Grass                                   0\n",
              "No_Makuti                                  0\n",
              "No_Tin                                     0\n",
              "No_Mud/Dung                                0\n",
              "No_Other                                   0\n",
              "County                                     0\n",
              "MTEF                                       0\n",
              "Province                                   0\n",
              "dtype: int64"
            ]
          },
          "metadata": {
            "tags": []
          },
          "execution_count": 51
        }
      ]
    },
    {
      "cell_type": "code",
      "metadata": {
        "id": "GTTtt9t2Js0y",
        "colab_type": "code",
        "colab": {}
      },
      "source": [
        "# drop null values\n",
        "df.dropna(inplace=True)"
      ],
      "execution_count": 0,
      "outputs": []
    },
    {
      "cell_type": "code",
      "metadata": {
        "id": "DTaPZtlsKP6u",
        "colab_type": "code",
        "colab": {
          "base_uri": "https://localhost:8080/",
          "height": 170
        },
        "outputId": "1b157b1c-47ee-4d5d-92a5-3763ae36faef"
      },
      "source": [
        "# messy columns\n",
        "df.columns"
      ],
      "execution_count": 53,
      "outputs": [
        {
          "output_type": "execute_result",
          "data": {
            "text/plain": [
              "Index(['District', 'rural/urban', '%_of_Households_Corrugated_Iron_Sheets',\n",
              "       '%_of_Households_Tiles', '%_of_Households_Concrete',\n",
              "       'Asbestos_%_of_Households_Sheets', '%_of_Households_Grass',\n",
              "       '%_of_Households_Makuti', '%_of_Households_Tin',\n",
              "       '%_of_Households_Mud/Dung', '%_of_Households_Other', 'Households',\n",
              "       'No_Corrugated_Iron_Sheets', 'No_Tiles', 'No_Concrete',\n",
              "       'No_Asbestos_Sheets', 'No_Grass', 'No_Makuti', 'No_Tin', 'No_Mud/Dung',\n",
              "       'No_Other', 'County', 'MTEF', 'Province'],\n",
              "      dtype='object')"
            ]
          },
          "metadata": {
            "tags": []
          },
          "execution_count": 53
        }
      ]
    },
    {
      "cell_type": "code",
      "metadata": {
        "id": "EEiwWq44KXvH",
        "colab_type": "code",
        "colab": {}
      },
      "source": [
        "# renaming the columns\n",
        "\n",
        "df.columns = df.columns.str.lower().str.replace('%_of_', '').str.replace('/', '_')"
      ],
      "execution_count": 0,
      "outputs": []
    },
    {
      "cell_type": "code",
      "metadata": {
        "id": "RMRbBIg6LTH4",
        "colab_type": "code",
        "colab": {
          "base_uri": "https://localhost:8080/",
          "height": 153
        },
        "outputId": "adbf4827-23e9-4485-ad41-f252f05bd448"
      },
      "source": [
        "df.columns"
      ],
      "execution_count": 57,
      "outputs": [
        {
          "output_type": "execute_result",
          "data": {
            "text/plain": [
              "Index(['district', 'rural_urban', 'households_corrugated_iron_sheets',\n",
              "       'households_tiles', 'households_concrete', 'asbestos_households_sheets',\n",
              "       'households_grass', 'households_makuti', 'households_tin',\n",
              "       'households_mud_dung', 'households_other', 'households',\n",
              "       'no_corrugated_iron_sheets', 'no_tiles', 'no_concrete',\n",
              "       'no_asbestos_sheets', 'no_grass', 'no_makuti', 'no_tin', 'no_mud_dung',\n",
              "       'no_other', 'county', 'mtef', 'province'],\n",
              "      dtype='object')"
            ]
          },
          "metadata": {
            "tags": []
          },
          "execution_count": 57
        }
      ]
    },
    {
      "cell_type": "code",
      "metadata": {
        "id": "l03VJMqcLV2N",
        "colab_type": "code",
        "colab": {}
      },
      "source": [
        "# export the cleaned sheet\n",
        "df.to_csv('Roofing.csv')"
      ],
      "execution_count": 0,
      "outputs": []
    },
    {
      "cell_type": "code",
      "metadata": {
        "id": "yATCE7JQLzYR",
        "colab_type": "code",
        "colab": {}
      },
      "source": [
        "rf = pd.read_csv('Roofing.csv')\n",
        "rf.head()"
      ],
      "execution_count": 0,
      "outputs": []
    },
    {
      "cell_type": "markdown",
      "metadata": {
        "id": "oFK7riSDOGyF",
        "colab_type": "text"
      },
      "source": [
        "VISUALIZATIONS"
      ]
    },
    {
      "cell_type": "code",
      "metadata": {
        "id": "AmmFXseVMPmA",
        "colab_type": "code",
        "colab": {}
      },
      "source": [
        "grouped = rf.groupby('province')[['no_grass', 'no_tiles', 'no_concrete']].sum()"
      ],
      "execution_count": 0,
      "outputs": []
    },
    {
      "cell_type": "code",
      "metadata": {
        "id": "Pbr_WUtdPcFS",
        "colab_type": "code",
        "colab": {
          "base_uri": "https://localhost:8080/",
          "height": 328
        },
        "outputId": "e522c0b5-d6e7-42ab-c79a-3a3181cb995e"
      },
      "source": [
        "grouped"
      ],
      "execution_count": 64,
      "outputs": [
        {
          "output_type": "execute_result",
          "data": {
            "text/html": [
              "<div>\n",
              "<style scoped>\n",
              "    .dataframe tbody tr th:only-of-type {\n",
              "        vertical-align: middle;\n",
              "    }\n",
              "\n",
              "    .dataframe tbody tr th {\n",
              "        vertical-align: top;\n",
              "    }\n",
              "\n",
              "    .dataframe thead th {\n",
              "        text-align: right;\n",
              "    }\n",
              "</style>\n",
              "<table border=\"1\" class=\"dataframe\">\n",
              "  <thead>\n",
              "    <tr style=\"text-align: right;\">\n",
              "      <th></th>\n",
              "      <th>no_grass</th>\n",
              "      <th>no_tiles</th>\n",
              "      <th>no_concrete</th>\n",
              "    </tr>\n",
              "    <tr>\n",
              "      <th>province</th>\n",
              "      <th></th>\n",
              "      <th></th>\n",
              "      <th></th>\n",
              "    </tr>\n",
              "  </thead>\n",
              "  <tbody>\n",
              "    <tr>\n",
              "      <th>CENTRAL</th>\n",
              "      <td>4169</td>\n",
              "      <td>22658</td>\n",
              "      <td>39270</td>\n",
              "    </tr>\n",
              "    <tr>\n",
              "      <th>COAST</th>\n",
              "      <td>61928</td>\n",
              "      <td>12931</td>\n",
              "      <td>31213</td>\n",
              "    </tr>\n",
              "    <tr>\n",
              "      <th>EASTERN</th>\n",
              "      <td>113702</td>\n",
              "      <td>12875</td>\n",
              "      <td>10579</td>\n",
              "    </tr>\n",
              "    <tr>\n",
              "      <th>NAIROBI</th>\n",
              "      <td>185</td>\n",
              "      <td>95617</td>\n",
              "      <td>208148</td>\n",
              "    </tr>\n",
              "    <tr>\n",
              "      <th>NORTH EASTERN</th>\n",
              "      <td>212867</td>\n",
              "      <td>1682</td>\n",
              "      <td>455</td>\n",
              "    </tr>\n",
              "    <tr>\n",
              "      <th>NYANZA</th>\n",
              "      <td>190006</td>\n",
              "      <td>9812</td>\n",
              "      <td>4797</td>\n",
              "    </tr>\n",
              "    <tr>\n",
              "      <th>RIFT VALLEY</th>\n",
              "      <td>413394</td>\n",
              "      <td>32928</td>\n",
              "      <td>15656</td>\n",
              "    </tr>\n",
              "    <tr>\n",
              "      <th>WESTERN</th>\n",
              "      <td>197959</td>\n",
              "      <td>5289</td>\n",
              "      <td>1261</td>\n",
              "    </tr>\n",
              "  </tbody>\n",
              "</table>\n",
              "</div>"
            ],
            "text/plain": [
              "               no_grass  no_tiles  no_concrete\n",
              "province                                      \n",
              "CENTRAL            4169     22658        39270\n",
              "COAST             61928     12931        31213\n",
              "EASTERN          113702     12875        10579\n",
              "NAIROBI             185     95617       208148\n",
              "NORTH EASTERN    212867      1682          455\n",
              "NYANZA           190006      9812         4797\n",
              "RIFT VALLEY      413394     32928        15656\n",
              "WESTERN          197959      5289         1261"
            ]
          },
          "metadata": {
            "tags": []
          },
          "execution_count": 64
        }
      ]
    },
    {
      "cell_type": "code",
      "metadata": {
        "id": "YBf41ZvdPmeh",
        "colab_type": "code",
        "colab": {
          "base_uri": "https://localhost:8080/",
          "height": 328
        },
        "outputId": "4e9ca5e3-0939-436b-c56c-cdb1033d69cf"
      },
      "source": [
        "grouped.sort_values(by = 'no_grass', ascending = False)"
      ],
      "execution_count": 65,
      "outputs": [
        {
          "output_type": "execute_result",
          "data": {
            "text/html": [
              "<div>\n",
              "<style scoped>\n",
              "    .dataframe tbody tr th:only-of-type {\n",
              "        vertical-align: middle;\n",
              "    }\n",
              "\n",
              "    .dataframe tbody tr th {\n",
              "        vertical-align: top;\n",
              "    }\n",
              "\n",
              "    .dataframe thead th {\n",
              "        text-align: right;\n",
              "    }\n",
              "</style>\n",
              "<table border=\"1\" class=\"dataframe\">\n",
              "  <thead>\n",
              "    <tr style=\"text-align: right;\">\n",
              "      <th></th>\n",
              "      <th>no_grass</th>\n",
              "      <th>no_tiles</th>\n",
              "      <th>no_concrete</th>\n",
              "    </tr>\n",
              "    <tr>\n",
              "      <th>province</th>\n",
              "      <th></th>\n",
              "      <th></th>\n",
              "      <th></th>\n",
              "    </tr>\n",
              "  </thead>\n",
              "  <tbody>\n",
              "    <tr>\n",
              "      <th>RIFT VALLEY</th>\n",
              "      <td>413394</td>\n",
              "      <td>32928</td>\n",
              "      <td>15656</td>\n",
              "    </tr>\n",
              "    <tr>\n",
              "      <th>NORTH EASTERN</th>\n",
              "      <td>212867</td>\n",
              "      <td>1682</td>\n",
              "      <td>455</td>\n",
              "    </tr>\n",
              "    <tr>\n",
              "      <th>WESTERN</th>\n",
              "      <td>197959</td>\n",
              "      <td>5289</td>\n",
              "      <td>1261</td>\n",
              "    </tr>\n",
              "    <tr>\n",
              "      <th>NYANZA</th>\n",
              "      <td>190006</td>\n",
              "      <td>9812</td>\n",
              "      <td>4797</td>\n",
              "    </tr>\n",
              "    <tr>\n",
              "      <th>EASTERN</th>\n",
              "      <td>113702</td>\n",
              "      <td>12875</td>\n",
              "      <td>10579</td>\n",
              "    </tr>\n",
              "    <tr>\n",
              "      <th>COAST</th>\n",
              "      <td>61928</td>\n",
              "      <td>12931</td>\n",
              "      <td>31213</td>\n",
              "    </tr>\n",
              "    <tr>\n",
              "      <th>CENTRAL</th>\n",
              "      <td>4169</td>\n",
              "      <td>22658</td>\n",
              "      <td>39270</td>\n",
              "    </tr>\n",
              "    <tr>\n",
              "      <th>NAIROBI</th>\n",
              "      <td>185</td>\n",
              "      <td>95617</td>\n",
              "      <td>208148</td>\n",
              "    </tr>\n",
              "  </tbody>\n",
              "</table>\n",
              "</div>"
            ],
            "text/plain": [
              "               no_grass  no_tiles  no_concrete\n",
              "province                                      \n",
              "RIFT VALLEY      413394     32928        15656\n",
              "NORTH EASTERN    212867      1682          455\n",
              "WESTERN          197959      5289         1261\n",
              "NYANZA           190006      9812         4797\n",
              "EASTERN          113702     12875        10579\n",
              "COAST             61928     12931        31213\n",
              "CENTRAL            4169     22658        39270\n",
              "NAIROBI             185     95617       208148"
            ]
          },
          "metadata": {
            "tags": []
          },
          "execution_count": 65
        }
      ]
    },
    {
      "cell_type": "code",
      "metadata": {
        "id": "uzsF4U9PRlIu",
        "colab_type": "code",
        "colab": {}
      },
      "source": [
        "# import seaborn\n",
        "import seaborn as sms\n",
        "\n",
        "# import matplotlip\n",
        "import matplotlib.pyplot as plt\n"
      ],
      "execution_count": 0,
      "outputs": []
    },
    {
      "cell_type": "code",
      "metadata": {
        "id": "34fDX8a-SBYN",
        "colab_type": "code",
        "colab": {
          "base_uri": "https://localhost:8080/",
          "height": 427
        },
        "outputId": "cf16ca36-9a74-41b9-88c2-a93288f491f3"
      },
      "source": [
        "grouped.plot(kind = 'bar', figsize = (8, 5), logy = True )\n",
        "plt.title('Comparing roofing materials in various provinces', color = 'darkblue', fontsize = 18)\n",
        "plt.xlabel('Province', color = 'red', fontsize = 15)\n",
        "plt.ylabel('Number of roofing materials', color = 'purple', fontsize = 15)\n",
        "plt.legend(['Grass', 'Tiles', 'Concrete'])\n",
        "plt.xticks(rotation = 60)\n",
        "plt.show()"
      ],
      "execution_count": 77,
      "outputs": [
        {
          "output_type": "display_data",
          "data": {
            "image/png": "[encoded data removed]",
            "text/plain": [
              "<Figure size 576x360 with 1 Axes>"
            ]
          },
          "metadata": {
            "tags": []
          }
        }
      ]
    },
    {
      "cell_type": "code",
      "metadata": {
        "id": "EvxHGBX8S_Q0",
        "colab_type": "code",
        "colab": {
          "base_uri": "https://localhost:8080/",
          "height": 326
        },
        "outputId": "a23d7e2c-b40a-4ce1-bf46-6a6ccf4ccd18"
      },
      "source": [
        "plt.figure(figsize = 10.7)"
      ],
      "execution_count": 78,
      "outputs": [
        {
          "output_type": "error",
          "ename": "TypeError",
          "evalue": "ignored",
          "traceback": [
            "\u001b[0;31m---------------------------------------------------------------------------\u001b[0m",
            "\u001b[0;31mTypeError\u001b[0m                                 Traceback (most recent call last)",
            "\u001b[0;32m<ipython-input-78-54116c99d6fb>\u001b[0m in \u001b[0;36m<module>\u001b[0;34m()\u001b[0m\n\u001b[0;32m----> 1\u001b[0;31m \u001b[0mplt\u001b[0m\u001b[0;34m.\u001b[0m\u001b[0mfigure\u001b[0m\u001b[0;34m(\u001b[0m\u001b[0mfigsize\u001b[0m \u001b[0;34m=\u001b[0m \u001b[0;36m10.7\u001b[0m\u001b[0;34m)\u001b[0m\u001b[0;34m\u001b[0m\u001b[0;34m\u001b[0m\u001b[0m\n\u001b[0m",
            "\u001b[0;32m/usr/local/lib/python3.6/dist-packages/matplotlib/pyplot.py\u001b[0m in \u001b[0;36mfigure\u001b[0;34m(num, figsize, dpi, facecolor, edgecolor, frameon, FigureClass, clear, **kwargs)\u001b[0m\n\u001b[1;32m    523\u001b[0m                                         \u001b[0mframeon\u001b[0m\u001b[0;34m=\u001b[0m\u001b[0mframeon\u001b[0m\u001b[0;34m,\u001b[0m\u001b[0;34m\u001b[0m\u001b[0;34m\u001b[0m\u001b[0m\n\u001b[1;32m    524\u001b[0m                                         \u001b[0mFigureClass\u001b[0m\u001b[0;34m=\u001b[0m\u001b[0mFigureClass\u001b[0m\u001b[0;34m,\u001b[0m\u001b[0;34m\u001b[0m\u001b[0;34m\u001b[0m\u001b[0m\n\u001b[0;32m--> 525\u001b[0;31m                                         **kwargs)\n\u001b[0m\u001b[1;32m    526\u001b[0m \u001b[0;34m\u001b[0m\u001b[0m\n\u001b[1;32m    527\u001b[0m         \u001b[0;32mif\u001b[0m \u001b[0mfigLabel\u001b[0m\u001b[0;34m:\u001b[0m\u001b[0;34m\u001b[0m\u001b[0;34m\u001b[0m\u001b[0m\n",
            "\u001b[0;32m/usr/local/lib/python3.6/dist-packages/matplotlib/backend_bases.py\u001b[0m in \u001b[0;36mnew_figure_manager\u001b[0;34m(cls, num, *args, **kwargs)\u001b[0m\n\u001b[1;32m   3215\u001b[0m         \u001b[0;32mfrom\u001b[0m \u001b[0mmatplotlib\u001b[0m\u001b[0;34m.\u001b[0m\u001b[0mfigure\u001b[0m \u001b[0;32mimport\u001b[0m \u001b[0mFigure\u001b[0m\u001b[0;34m\u001b[0m\u001b[0;34m\u001b[0m\u001b[0m\n\u001b[1;32m   3216\u001b[0m         \u001b[0mfig_cls\u001b[0m \u001b[0;34m=\u001b[0m \u001b[0mkwargs\u001b[0m\u001b[0;34m.\u001b[0m\u001b[0mpop\u001b[0m\u001b[0;34m(\u001b[0m\u001b[0;34m'FigureClass'\u001b[0m\u001b[0;34m,\u001b[0m \u001b[0mFigure\u001b[0m\u001b[0;34m)\u001b[0m\u001b[0;34m\u001b[0m\u001b[0;34m\u001b[0m\u001b[0m\n\u001b[0;32m-> 3217\u001b[0;31m         \u001b[0mfig\u001b[0m \u001b[0;34m=\u001b[0m \u001b[0mfig_cls\u001b[0m\u001b[0;34m(\u001b[0m\u001b[0;34m*\u001b[0m\u001b[0margs\u001b[0m\u001b[0;34m,\u001b[0m \u001b[0;34m**\u001b[0m\u001b[0mkwargs\u001b[0m\u001b[0;34m)\u001b[0m\u001b[0;34m\u001b[0m\u001b[0;34m\u001b[0m\u001b[0m\n\u001b[0m\u001b[1;32m   3218\u001b[0m         \u001b[0;32mreturn\u001b[0m \u001b[0mcls\u001b[0m\u001b[0;34m.\u001b[0m\u001b[0mnew_figure_manager_given_figure\u001b[0m\u001b[0;34m(\u001b[0m\u001b[0mnum\u001b[0m\u001b[0;34m,\u001b[0m \u001b[0mfig\u001b[0m\u001b[0;34m)\u001b[0m\u001b[0;34m\u001b[0m\u001b[0;34m\u001b[0m\u001b[0m\n\u001b[1;32m   3219\u001b[0m \u001b[0;34m\u001b[0m\u001b[0m\n",
            "\u001b[0;32m/usr/local/lib/python3.6/dist-packages/matplotlib/figure.py\u001b[0m in \u001b[0;36m__init__\u001b[0;34m(self, figsize, dpi, facecolor, edgecolor, linewidth, frameon, subplotpars, tight_layout, constrained_layout)\u001b[0m\n\u001b[1;32m    354\u001b[0m             raise ValueError('figure size must be finite not '\n\u001b[1;32m    355\u001b[0m                              '{}'.format(figsize))\n\u001b[0;32m--> 356\u001b[0;31m         \u001b[0mself\u001b[0m\u001b[0;34m.\u001b[0m\u001b[0mbbox_inches\u001b[0m \u001b[0;34m=\u001b[0m \u001b[0mBbox\u001b[0m\u001b[0;34m.\u001b[0m\u001b[0mfrom_bounds\u001b[0m\u001b[0;34m(\u001b[0m\u001b[0;36m0\u001b[0m\u001b[0;34m,\u001b[0m \u001b[0;36m0\u001b[0m\u001b[0;34m,\u001b[0m \u001b[0;34m*\u001b[0m\u001b[0mfigsize\u001b[0m\u001b[0;34m)\u001b[0m\u001b[0;34m\u001b[0m\u001b[0;34m\u001b[0m\u001b[0m\n\u001b[0m\u001b[1;32m    357\u001b[0m \u001b[0;34m\u001b[0m\u001b[0m\n\u001b[1;32m    358\u001b[0m         \u001b[0mself\u001b[0m\u001b[0;34m.\u001b[0m\u001b[0mdpi_scale_trans\u001b[0m \u001b[0;34m=\u001b[0m \u001b[0mAffine2D\u001b[0m\u001b[0;34m(\u001b[0m\u001b[0;34m)\u001b[0m\u001b[0;34m.\u001b[0m\u001b[0mscale\u001b[0m\u001b[0;34m(\u001b[0m\u001b[0mdpi\u001b[0m\u001b[0;34m,\u001b[0m \u001b[0mdpi\u001b[0m\u001b[0;34m)\u001b[0m\u001b[0;34m\u001b[0m\u001b[0;34m\u001b[0m\u001b[0m\n",
            "\u001b[0;31mTypeError\u001b[0m: from_bounds() argument after * must be an iterable, not float"
          ]
        }
      ]
    },
    {
      "cell_type": "code",
      "metadata": {
        "id": "g_hvzLjfqFju",
        "colab_type": "code",
        "colab": {}
      },
      "source": [
        ""
      ],
      "execution_count": 0,
      "outputs": []
    }
  ]
}