{
  "nbformat": 4,
  "nbformat_minor": 0,
  "metadata": {
    "colab": {
      "name": "Snippets: Sheets",
      "provenance": [],
      "collapsed_sections": [],
      "toc_visible": true,
      "include_colab_link": true
    },
    "kernelspec": {
      "display_name": "Python 3",
      "name": "python3"
    }
  },
  "cells": [
    {
      "cell_type": "markdown",
      "metadata": {
        "id": "view-in-github",
        "colab_type": "text"
      },
      "source": [
        "<a href=\"https://colab.research.google.com/github/achingachris/datasciencelearninghub/blob/master/Snippets_Sheets.ipynb\" target=\"_parent\"><img src=\"https://colab.research.google.com/assets/colab-badge.svg\" alt=\"Open In Colab\"/></a>"
      ]
    },
    {
      "cell_type": "markdown",
      "metadata": {
        "id": "sOm9PFrT8mGG"
      },
      "source": [
        "# Saving data to Google Sheets\n",
        "\n",
        "\n",
        "This snippet uses the open-source [gspread](https://github.com/burnash/gspread) library for interacting with Sheets."
      ]
    },
    {
      "cell_type": "code",
      "metadata": {
        "colab": {
          "base_uri": "https://localhost:8080/"
        },
        "id": "6d0xJz3VzLOo",
        "outputId": "d2219df8-5fa5-4e44-8305-bfedbc89b4c0"
      },
      "source": [
        "from google.colab import auth\n",
        "auth.authenticate_user()\n",
        "\n",
        "import gspread\n",
        "from oauth2client.client import GoogleCredentials\n",
        "\n",
        "gc = gspread.authorize(GoogleCredentials.get_application_default())\n",
        "\n",
        "sh = gc.create('A new spreadsheet')\n",
        "\n",
        "# Open our new sheet and add some data.\n",
        "worksheet = gc.open('A new spreadsheet').sheet1\n",
        "\n",
        "cell_list = worksheet.range('A1:C2')\n",
        "\n",
        "import random\n",
        "for cell in cell_list:\n",
        "  cell.value = random.randint(1, 10)\n",
        "\n",
        "worksheet.update_cells(cell_list)\n",
        "# Go to https://sheets.google.com to see your new spreadsheet."
      ],
      "execution_count": 1,
      "outputs": [
        {
          "output_type": "execute_result",
          "data": {
            "text/plain": [
              "{'spreadsheetId': '17EXPCbLCfNIka5JRUPJebU4ys0O8MwtUJoKhCuNGzKA',\n",
              " 'updatedCells': 6,\n",
              " 'updatedColumns': 3,\n",
              " 'updatedRange': 'Sheet1!A1:C2',\n",
              " 'updatedRows': 2}"
            ]
          },
          "metadata": {},
          "execution_count": 1
        }
      ]
    },
    {
      "cell_type": "markdown",
      "metadata": {
        "id": "k9q0pp33dckN"
      },
      "source": [
        "# Importing data from Google Sheets"
      ]
    },
    {
      "cell_type": "code",
      "metadata": {
        "colab": {
          "base_uri": "https://localhost:8080/",
          "height": 365
        },
        "id": "JiJVCmu3dhFa",
        "outputId": "f175766c-02c3-49f0-e649-535c00308211"
      },
      "source": [
        "from google.colab import auth\n",
        "auth.authenticate_user()\n",
        "\n",
        "import gspread\n",
        "from oauth2client.client import GoogleCredentials\n",
        "\n",
        "gc = gspread.authorize(GoogleCredentials.get_application_default())\n",
        "\n",
        "worksheet = gc.open('participants').sheet1\n",
        "\n",
        "# get_all_values gives a list of rows.\n",
        "rows = worksheet.get_all_values()\n",
        "print(rows)\n",
        "\n",
        "# Convert to a DataFrame and render.\n",
        "import pandas as pd\n",
        "pd.DataFrame.from_records(rows)"
      ],
      "execution_count": 3,
      "outputs": [
        {
          "output_type": "stream",
          "name": "stdout",
          "text": [
            "[['NAME', 'EMAIL', 'PHONE', 'GITHUB', 'STATUS'], ['Juliet Akinyi', 'akinyij1999@gmail.com', '254793954763', '', 'not-responded'], ['Derrick Ropio', 'rodetuk@gmail.com', '254768047900', '', 'not-responded'], ['John', 'jhnmusyoki@gmail.com', '254713183274', '', 'confirmed'], ['Joshua', 'hosanajoshua@zetech.ac.ke', '254799912026', '', 'not-responded'], ['Hannah', 'hannahwambui022@gmail.com', '254743842544', '', 'confirmed'], ['George', 'muigaigeorge452@gmail.com', '254791264756', '', 'not-responded'], ['Susan', 'kamausuzan711@gmail.com', '254717208462', '', 'confirmed'], ['Daniel', 'ochardaniel10@gmail.com', '254799171282', '', 'not-responded']]\n"
          ]
        },
        {
          "output_type": "execute_result",
          "data": {
            "text/html": [
              "<div>\n",
              "<style scoped>\n",
              "    .dataframe tbody tr th:only-of-type {\n",
              "        vertical-align: middle;\n",
              "    }\n",
              "\n",
              "    .dataframe tbody tr th {\n",
              "        vertical-align: top;\n",
              "    }\n",
              "\n",
              "    .dataframe thead th {\n",
              "        text-align: right;\n",
              "    }\n",
              "</style>\n",
              "<table border=\"1\" class=\"dataframe\">\n",
              "  <thead>\n",
              "    <tr style=\"text-align: right;\">\n",
              "      <th></th>\n",
              "      <th>0</th>\n",
              "      <th>1</th>\n",
              "      <th>2</th>\n",
              "      <th>3</th>\n",
              "      <th>4</th>\n",
              "    </tr>\n",
              "  </thead>\n",
              "  <tbody>\n",
              "    <tr>\n",
              "      <th>0</th>\n",
              "      <td>NAME</td>\n",
              "      <td>EMAIL</td>\n",
              "      <td>PHONE</td>\n",
              "      <td>GITHUB</td>\n",
              "      <td>STATUS</td>\n",
              "    </tr>\n",
              "    <tr>\n",
              "      <th>1</th>\n",
              "      <td>Juliet Akinyi</td>\n",
              "      <td>akinyij1999@gmail.com</td>\n",
              "      <td>254793954763</td>\n",
              "      <td></td>\n",
              "      <td>not-responded</td>\n",
              "    </tr>\n",
              "    <tr>\n",
              "      <th>2</th>\n",
              "      <td>Derrick Ropio</td>\n",
              "      <td>rodetuk@gmail.com</td>\n",
              "      <td>254768047900</td>\n",
              "      <td></td>\n",
              "      <td>not-responded</td>\n",
              "    </tr>\n",
              "    <tr>\n",
              "      <th>3</th>\n",
              "      <td>John</td>\n",
              "      <td>jhnmusyoki@gmail.com</td>\n",
              "      <td>254713183274</td>\n",
              "      <td></td>\n",
              "      <td>confirmed</td>\n",
              "    </tr>\n",
              "    <tr>\n",
              "      <th>4</th>\n",
              "      <td>Joshua</td>\n",
              "      <td>hosanajoshua@zetech.ac.ke</td>\n",
              "      <td>254799912026</td>\n",
              "      <td></td>\n",
              "      <td>not-responded</td>\n",
              "    </tr>\n",
              "    <tr>\n",
              "      <th>5</th>\n",
              "      <td>Hannah</td>\n",
              "      <td>hannahwambui022@gmail.com</td>\n",
              "      <td>254743842544</td>\n",
              "      <td></td>\n",
              "      <td>confirmed</td>\n",
              "    </tr>\n",
              "    <tr>\n",
              "      <th>6</th>\n",
              "      <td>George</td>\n",
              "      <td>muigaigeorge452@gmail.com</td>\n",
              "      <td>254791264756</td>\n",
              "      <td></td>\n",
              "      <td>not-responded</td>\n",
              "    </tr>\n",
              "    <tr>\n",
              "      <th>7</th>\n",
              "      <td>Susan</td>\n",
              "      <td>kamausuzan711@gmail.com</td>\n",
              "      <td>254717208462</td>\n",
              "      <td></td>\n",
              "      <td>confirmed</td>\n",
              "    </tr>\n",
              "    <tr>\n",
              "      <th>8</th>\n",
              "      <td>Daniel</td>\n",
              "      <td>ochardaniel10@gmail.com</td>\n",
              "      <td>254799171282</td>\n",
              "      <td></td>\n",
              "      <td>not-responded</td>\n",
              "    </tr>\n",
              "  </tbody>\n",
              "</table>\n",
              "</div>"
            ],
            "text/plain": [
              "               0                          1  ...       3              4\n",
              "0           NAME                      EMAIL  ...  GITHUB         STATUS\n",
              "1  Juliet Akinyi      akinyij1999@gmail.com  ...          not-responded\n",
              "2  Derrick Ropio          rodetuk@gmail.com  ...          not-responded\n",
              "3           John       jhnmusyoki@gmail.com  ...              confirmed\n",
              "4         Joshua  hosanajoshua@zetech.ac.ke  ...          not-responded\n",
              "5         Hannah  hannahwambui022@gmail.com  ...              confirmed\n",
              "6         George  muigaigeorge452@gmail.com  ...          not-responded\n",
              "7          Susan    kamausuzan711@gmail.com  ...              confirmed\n",
              "8         Daniel    ochardaniel10@gmail.com  ...          not-responded\n",
              "\n",
              "[9 rows x 5 columns]"
            ]
          },
          "metadata": {},
          "execution_count": 3
        }
      ]
    }
  ]
}